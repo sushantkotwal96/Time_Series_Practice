{
 "cells": [
  {
   "cell_type": "code",
   "execution_count": 4,
   "id": "f4643744-584a-4cd1-a396-1ecfe3116b57",
   "metadata": {},
   "outputs": [
    {
     "name": "stdout",
     "output_type": "stream",
     "text": [
      "Collecting statsmodels\n",
      "  Downloading statsmodels-0.14.4-cp39-cp39-macosx_11_0_arm64.whl (9.9 MB)\n",
      "\u001b[K     |████████████████████████████████| 9.9 MB 3.4 MB/s eta 0:00:01\n",
      "\u001b[?25hRequirement already satisfied: numpy<3,>=1.22.3 in /Users/sushantkotwal96/tensorflow_vs_code/lib/python3.9/site-packages (from statsmodels) (1.24.3)\n",
      "Collecting patsy>=0.5.6\n",
      "  Using cached patsy-0.5.6-py2.py3-none-any.whl (233 kB)\n",
      "Requirement already satisfied: packaging>=21.3 in /Users/sushantkotwal96/tensorflow_vs_code/lib/python3.9/site-packages (from statsmodels) (24.0)\n",
      "Requirement already satisfied: pandas!=2.1.0,>=1.4 in /Users/sushantkotwal96/tensorflow_vs_code/lib/python3.9/site-packages (from statsmodels) (2.2.1)\n",
      "Requirement already satisfied: scipy!=1.9.2,>=1.8 in /Users/sushantkotwal96/tensorflow_vs_code/lib/python3.9/site-packages (from statsmodels) (1.12.0)\n",
      "Requirement already satisfied: pytz>=2020.1 in /Users/sushantkotwal96/tensorflow_vs_code/lib/python3.9/site-packages (from pandas!=2.1.0,>=1.4->statsmodels) (2024.1)\n",
      "Requirement already satisfied: python-dateutil>=2.8.2 in /Users/sushantkotwal96/tensorflow_vs_code/lib/python3.9/site-packages (from pandas!=2.1.0,>=1.4->statsmodels) (2.9.0.post0)\n",
      "Requirement already satisfied: tzdata>=2022.7 in /Users/sushantkotwal96/tensorflow_vs_code/lib/python3.9/site-packages (from pandas!=2.1.0,>=1.4->statsmodels) (2024.1)\n",
      "Requirement already satisfied: six in /Users/sushantkotwal96/tensorflow_vs_code/lib/python3.9/site-packages (from patsy>=0.5.6->statsmodels) (1.16.0)\n",
      "Installing collected packages: patsy, statsmodels\n",
      "Successfully installed patsy-0.5.6 statsmodels-0.14.4\n",
      "\u001b[33mWARNING: You are using pip version 21.2.4; however, version 24.2 is available.\n",
      "You should consider upgrading via the '/Users/sushantkotwal96/tensorflow_vs_code/bin/python3 -m pip install --upgrade pip' command.\u001b[0m\n",
      "Note: you may need to restart the kernel to use updated packages.\n"
     ]
    }
   ],
   "source": [
    "pip install statsmodels"
   ]
  },
  {
   "cell_type": "code",
   "execution_count": 5,
   "id": "ab941fd7-8652-4fe1-9de9-a51cb119dacb",
   "metadata": {},
   "outputs": [],
   "source": [
    "import numpy as np\n",
    "import pandas as pd\n",
    "import statsmodels.api as sms\n",
    "import matplotlib.pyplot as plt"
   ]
  },
  {
   "cell_type": "code",
   "execution_count": 6,
   "id": "ae08cb67-d24b-4b14-b3b3-a0be24e0c7cb",
   "metadata": {},
   "outputs": [],
   "source": [
    "df_airline = pd.read_csv('airline_passengers.csv')"
   ]
  },
  {
   "cell_type": "code",
   "execution_count": 7,
   "id": "fd570335-cfaf-4aaa-ae67-0667d7ffa7a2",
   "metadata": {},
   "outputs": [
    {
     "data": {
      "text/html": [
       "<div>\n",
       "<style scoped>\n",
       "    .dataframe tbody tr th:only-of-type {\n",
       "        vertical-align: middle;\n",
       "    }\n",
       "\n",
       "    .dataframe tbody tr th {\n",
       "        vertical-align: top;\n",
       "    }\n",
       "\n",
       "    .dataframe thead th {\n",
       "        text-align: right;\n",
       "    }\n",
       "</style>\n",
       "<table border=\"1\" class=\"dataframe\">\n",
       "  <thead>\n",
       "    <tr style=\"text-align: right;\">\n",
       "      <th></th>\n",
       "      <th>Month</th>\n",
       "      <th>Thousands of Passengers</th>\n",
       "    </tr>\n",
       "  </thead>\n",
       "  <tbody>\n",
       "    <tr>\n",
       "      <th>0</th>\n",
       "      <td>1949-01</td>\n",
       "      <td>112.0</td>\n",
       "    </tr>\n",
       "    <tr>\n",
       "      <th>1</th>\n",
       "      <td>1949-02</td>\n",
       "      <td>118.0</td>\n",
       "    </tr>\n",
       "    <tr>\n",
       "      <th>2</th>\n",
       "      <td>1949-03</td>\n",
       "      <td>132.0</td>\n",
       "    </tr>\n",
       "    <tr>\n",
       "      <th>3</th>\n",
       "      <td>1949-04</td>\n",
       "      <td>129.0</td>\n",
       "    </tr>\n",
       "    <tr>\n",
       "      <th>4</th>\n",
       "      <td>1949-05</td>\n",
       "      <td>121.0</td>\n",
       "    </tr>\n",
       "  </tbody>\n",
       "</table>\n",
       "</div>"
      ],
      "text/plain": [
       "     Month  Thousands of Passengers\n",
       "0  1949-01                    112.0\n",
       "1  1949-02                    118.0\n",
       "2  1949-03                    132.0\n",
       "3  1949-04                    129.0\n",
       "4  1949-05                    121.0"
      ]
     },
     "execution_count": 7,
     "metadata": {},
     "output_type": "execute_result"
    }
   ],
   "source": [
    "df_airline.head()"
   ]
  },
  {
   "cell_type": "code",
   "execution_count": 9,
   "id": "fd31e2e3-d932-4f83-affd-a3b688a87438",
   "metadata": {},
   "outputs": [
    {
     "name": "stdout",
     "output_type": "stream",
     "text": [
      "<class 'pandas.core.frame.DataFrame'>\n",
      "RangeIndex: 145 entries, 0 to 144\n",
      "Data columns (total 2 columns):\n",
      " #   Column                   Non-Null Count  Dtype  \n",
      "---  ------                   --------------  -----  \n",
      " 0   Month                    145 non-null    object \n",
      " 1   Thousands of Passengers  144 non-null    float64\n",
      "dtypes: float64(1), object(1)\n",
      "memory usage: 2.4+ KB\n"
     ]
    }
   ],
   "source": [
    "df_airline.info()"
   ]
  },
  {
   "cell_type": "code",
   "execution_count": 10,
   "id": "ce042374-1271-4ce3-9a85-602b388414b8",
   "metadata": {},
   "outputs": [
    {
     "data": {
      "text/plain": [
       "Month                      0\n",
       "Thousands of Passengers    1\n",
       "dtype: int64"
      ]
     },
     "execution_count": 10,
     "metadata": {},
     "output_type": "execute_result"
    }
   ],
   "source": [
    "df_airline.isnull().sum()"
   ]
  },
  {
   "cell_type": "code",
   "execution_count": 11,
   "id": "df84d9da-3b0a-4cd1-899e-dd64d667b20e",
   "metadata": {},
   "outputs": [
    {
     "data": {
      "text/html": [
       "<div>\n",
       "<style scoped>\n",
       "    .dataframe tbody tr th:only-of-type {\n",
       "        vertical-align: middle;\n",
       "    }\n",
       "\n",
       "    .dataframe tbody tr th {\n",
       "        vertical-align: top;\n",
       "    }\n",
       "\n",
       "    .dataframe thead th {\n",
       "        text-align: right;\n",
       "    }\n",
       "</style>\n",
       "<table border=\"1\" class=\"dataframe\">\n",
       "  <thead>\n",
       "    <tr style=\"text-align: right;\">\n",
       "      <th></th>\n",
       "      <th>Month</th>\n",
       "      <th>Thousands of Passengers</th>\n",
       "    </tr>\n",
       "  </thead>\n",
       "  <tbody>\n",
       "    <tr>\n",
       "      <th>140</th>\n",
       "      <td>1960-09</td>\n",
       "      <td>508.0</td>\n",
       "    </tr>\n",
       "    <tr>\n",
       "      <th>141</th>\n",
       "      <td>1960-10</td>\n",
       "      <td>461.0</td>\n",
       "    </tr>\n",
       "    <tr>\n",
       "      <th>142</th>\n",
       "      <td>1960-11</td>\n",
       "      <td>390.0</td>\n",
       "    </tr>\n",
       "    <tr>\n",
       "      <th>143</th>\n",
       "      <td>1960-12</td>\n",
       "      <td>432.0</td>\n",
       "    </tr>\n",
       "    <tr>\n",
       "      <th>144</th>\n",
       "      <td>International airline passengers: monthly tota...</td>\n",
       "      <td>NaN</td>\n",
       "    </tr>\n",
       "  </tbody>\n",
       "</table>\n",
       "</div>"
      ],
      "text/plain": [
       "                                                 Month  \\\n",
       "140                                            1960-09   \n",
       "141                                            1960-10   \n",
       "142                                            1960-11   \n",
       "143                                            1960-12   \n",
       "144  International airline passengers: monthly tota...   \n",
       "\n",
       "     Thousands of Passengers  \n",
       "140                    508.0  \n",
       "141                    461.0  \n",
       "142                    390.0  \n",
       "143                    432.0  \n",
       "144                      NaN  "
      ]
     },
     "execution_count": 11,
     "metadata": {},
     "output_type": "execute_result"
    }
   ],
   "source": [
    "df_airline.tail()"
   ]
  },
  {
   "cell_type": "code",
   "execution_count": 12,
   "id": "e1581630-07fa-4445-b047-349cc933d815",
   "metadata": {},
   "outputs": [],
   "source": [
    "df_airline.dropna(inplace=True,axis=0)"
   ]
  },
  {
   "cell_type": "code",
   "execution_count": 14,
   "id": "0e6b3edf-a28a-4dde-9e7c-51a7e12f16dd",
   "metadata": {},
   "outputs": [
    {
     "data": {
      "text/plain": [
       "Month                      0\n",
       "Thousands of Passengers    0\n",
       "dtype: int64"
      ]
     },
     "execution_count": 14,
     "metadata": {},
     "output_type": "execute_result"
    }
   ],
   "source": [
    "df_airline.isnull().sum()"
   ]
  },
  {
   "cell_type": "code",
   "execution_count": 15,
   "id": "101d0beb-7ff1-406c-b038-479ed00d6294",
   "metadata": {},
   "outputs": [
    {
     "name": "stdout",
     "output_type": "stream",
     "text": [
      "<class 'pandas.core.frame.DataFrame'>\n",
      "Index: 144 entries, 0 to 143\n",
      "Data columns (total 2 columns):\n",
      " #   Column                   Non-Null Count  Dtype  \n",
      "---  ------                   --------------  -----  \n",
      " 0   Month                    144 non-null    object \n",
      " 1   Thousands of Passengers  144 non-null    float64\n",
      "dtypes: float64(1), object(1)\n",
      "memory usage: 3.4+ KB\n"
     ]
    }
   ],
   "source": [
    "df_airline.info()"
   ]
  },
  {
   "cell_type": "markdown",
   "id": "6a88f1a0-1fa0-4aed-98f1-fc048b66dfe9",
   "metadata": {},
   "source": [
    "### Here the month is an object type, so we will convert it to a datetime type"
   ]
  },
  {
   "cell_type": "code",
   "execution_count": 17,
   "id": "910af7d2-6c4e-4c63-a91d-810e6dd8d7d5",
   "metadata": {},
   "outputs": [],
   "source": [
    "df_airline['Month'] = pd.to_datetime(df_airline['Month'])"
   ]
  },
  {
   "cell_type": "code",
   "execution_count": 18,
   "id": "e6814233-7644-4fda-b8ef-cb8918dd12b0",
   "metadata": {},
   "outputs": [
    {
     "name": "stdout",
     "output_type": "stream",
     "text": [
      "<class 'pandas.core.frame.DataFrame'>\n",
      "Index: 144 entries, 0 to 143\n",
      "Data columns (total 2 columns):\n",
      " #   Column                   Non-Null Count  Dtype         \n",
      "---  ------                   --------------  -----         \n",
      " 0   Month                    144 non-null    datetime64[ns]\n",
      " 1   Thousands of Passengers  144 non-null    float64       \n",
      "dtypes: datetime64[ns](1), float64(1)\n",
      "memory usage: 3.4 KB\n"
     ]
    }
   ],
   "source": [
    "df_airline.info()"
   ]
  },
  {
   "cell_type": "code",
   "execution_count": 19,
   "id": "e1cf80f8-0f1a-43b5-9784-665d86bba672",
   "metadata": {},
   "outputs": [],
   "source": [
    "df_airline.set_index('Month',inplace=True)"
   ]
  },
  {
   "cell_type": "code",
   "execution_count": 20,
   "id": "65865707-4a65-41e5-bbf1-0f4b8127ecfd",
   "metadata": {},
   "outputs": [
    {
     "data": {
      "text/html": [
       "<div>\n",
       "<style scoped>\n",
       "    .dataframe tbody tr th:only-of-type {\n",
       "        vertical-align: middle;\n",
       "    }\n",
       "\n",
       "    .dataframe tbody tr th {\n",
       "        vertical-align: top;\n",
       "    }\n",
       "\n",
       "    .dataframe thead th {\n",
       "        text-align: right;\n",
       "    }\n",
       "</style>\n",
       "<table border=\"1\" class=\"dataframe\">\n",
       "  <thead>\n",
       "    <tr style=\"text-align: right;\">\n",
       "      <th></th>\n",
       "      <th>Thousands of Passengers</th>\n",
       "    </tr>\n",
       "    <tr>\n",
       "      <th>Month</th>\n",
       "      <th></th>\n",
       "    </tr>\n",
       "  </thead>\n",
       "  <tbody>\n",
       "    <tr>\n",
       "      <th>1949-01-01</th>\n",
       "      <td>112.0</td>\n",
       "    </tr>\n",
       "    <tr>\n",
       "      <th>1949-02-01</th>\n",
       "      <td>118.0</td>\n",
       "    </tr>\n",
       "    <tr>\n",
       "      <th>1949-03-01</th>\n",
       "      <td>132.0</td>\n",
       "    </tr>\n",
       "    <tr>\n",
       "      <th>1949-04-01</th>\n",
       "      <td>129.0</td>\n",
       "    </tr>\n",
       "    <tr>\n",
       "      <th>1949-05-01</th>\n",
       "      <td>121.0</td>\n",
       "    </tr>\n",
       "  </tbody>\n",
       "</table>\n",
       "</div>"
      ],
      "text/plain": [
       "            Thousands of Passengers\n",
       "Month                              \n",
       "1949-01-01                    112.0\n",
       "1949-02-01                    118.0\n",
       "1949-03-01                    132.0\n",
       "1949-04-01                    129.0\n",
       "1949-05-01                    121.0"
      ]
     },
     "execution_count": 20,
     "metadata": {},
     "output_type": "execute_result"
    }
   ],
   "source": [
    "df_airline.head()"
   ]
  },
  {
   "cell_type": "code",
   "execution_count": 21,
   "id": "c9fa0992-11ee-4920-8b50-851fac99203a",
   "metadata": {},
   "outputs": [
    {
     "data": {
      "text/plain": [
       "<Axes: xlabel='Month'>"
      ]
     },
     "execution_count": 21,
     "metadata": {},
     "output_type": "execute_result"
    },
    {
     "data": {
      "image/png": "[encoded data removed]",
      "text/plain": [
       "<Figure size 640x480 with 1 Axes>"
      ]
     },
     "metadata": {},
     "output_type": "display_data"
    }
   ],
   "source": [
    "df_airline.plot()"
   ]
  },
  {
   "cell_type": "markdown",
   "id": "92d38579-500e-4efd-98fe-388166c30a57",
   "metadata": {},
   "source": [
    "### The above plot shows seasonality and trend. So, since this is a seasonal data, it cannot be a stationary data"
   ]
  },
  {
   "cell_type": "markdown",
   "id": "7ca54651-78db-4fbf-b8cd-e6de8394d092",
   "metadata": {},
   "source": [
    "### We will now use Dickey-Fuller test to check stationarity of the data"
   ]
  },
  {
   "cell_type": "code",
   "execution_count": 22,
   "id": "73a3bad0-94de-402e-9964-ca421ea9111d",
   "metadata": {},
   "outputs": [],
   "source": [
    "from statsmodels.tsa.stattools import adfuller"
   ]
  },
  {
   "cell_type": "code",
   "execution_count": 23,
   "id": "181c921f-2985-4900-8f4e-772a5f5cecb6",
   "metadata": {},
   "outputs": [],
   "source": [
    "result = adfuller(df_airline['Thousands of Passengers'])"
   ]
  },
  {
   "cell_type": "code",
   "execution_count": 40,
   "id": "c74507b4-f1f4-44dd-ae20-f2a562016e37",
   "metadata": {},
   "outputs": [],
   "source": [
    "def adf(series):\n",
    "    result = adfuller(series)\n",
    "    \n",
    "## The null hypothesis here was that the data is non-stationary\n",
    "    print('ADF Statistics: {}'.format(result[0]))\n",
    "    print('p-Value: {}'.format(result[1]))\n",
    "    if result[1]<=0.05:\n",
    "        print(\"Strong evidence against the null hypothesis. Reject the null hypothesis. Data is Stationary\")\n",
    "    else:\n",
    "        print(\"Accept the null hypothesis. Time series has a unit root, indicating this data is non-stationary\")"
   ]
  },
  {
   "cell_type": "code",
   "execution_count": null,
   "id": "ce62960d-7ab6-4c61-b340-cfeb293f643d",
   "metadata": {},
   "outputs": [],
   "source": []
  },
  {
   "cell_type": "markdown",
   "id": "f84fbe0c-4d95-4cc2-a8e1-4bf5ef0d7cf1",
   "metadata": {},
   "source": [
    "### To make the data stationary, we will do differencing"
   ]
  },
  {
   "cell_type": "code",
   "execution_count": 33,
   "id": "4517d3aa-fb42-4399-b019-1af8199ed697",
   "metadata": {},
   "outputs": [],
   "source": [
    "df_airline['Passengers_first_difference'] = df_airline['Thousands of Passengers']-df_airline['Thousands of Passengers'].shift(1)"
   ]
  },
  {
   "cell_type": "code",
   "execution_count": 34,
   "id": "c3410a2c-6f9e-485e-81a9-7c49482e5295",
   "metadata": {},
   "outputs": [
    {
     "data": {
      "text/html": [
       "<div>\n",
       "<style scoped>\n",
       "    .dataframe tbody tr th:only-of-type {\n",
       "        vertical-align: middle;\n",
       "    }\n",
       "\n",
       "    .dataframe tbody tr th {\n",
       "        vertical-align: top;\n",
       "    }\n",
       "\n",
       "    .dataframe thead th {\n",
       "        text-align: right;\n",
       "    }\n",
       "</style>\n",
       "<table border=\"1\" class=\"dataframe\">\n",
       "  <thead>\n",
       "    <tr style=\"text-align: right;\">\n",
       "      <th></th>\n",
       "      <th>Thousands of Passengers</th>\n",
       "      <th>Passengers_first_difference</th>\n",
       "    </tr>\n",
       "    <tr>\n",
       "      <th>Month</th>\n",
       "      <th></th>\n",
       "      <th></th>\n",
       "    </tr>\n",
       "  </thead>\n",
       "  <tbody>\n",
       "    <tr>\n",
       "      <th>1949-01-01</th>\n",
       "      <td>112.0</td>\n",
       "      <td>NaN</td>\n",
       "    </tr>\n",
       "    <tr>\n",
       "      <th>1949-02-01</th>\n",
       "      <td>118.0</td>\n",
       "      <td>6.0</td>\n",
       "    </tr>\n",
       "    <tr>\n",
       "      <th>1949-03-01</th>\n",
       "      <td>132.0</td>\n",
       "      <td>14.0</td>\n",
       "    </tr>\n",
       "    <tr>\n",
       "      <th>1949-04-01</th>\n",
       "      <td>129.0</td>\n",
       "      <td>-3.0</td>\n",
       "    </tr>\n",
       "    <tr>\n",
       "      <th>1949-05-01</th>\n",
       "      <td>121.0</td>\n",
       "      <td>-8.0</td>\n",
       "    </tr>\n",
       "    <tr>\n",
       "      <th>...</th>\n",
       "      <td>...</td>\n",
       "      <td>...</td>\n",
       "    </tr>\n",
       "    <tr>\n",
       "      <th>1960-08-01</th>\n",
       "      <td>606.0</td>\n",
       "      <td>-16.0</td>\n",
       "    </tr>\n",
       "    <tr>\n",
       "      <th>1960-09-01</th>\n",
       "      <td>508.0</td>\n",
       "      <td>-98.0</td>\n",
       "    </tr>\n",
       "    <tr>\n",
       "      <th>1960-10-01</th>\n",
       "      <td>461.0</td>\n",
       "      <td>-47.0</td>\n",
       "    </tr>\n",
       "    <tr>\n",
       "      <th>1960-11-01</th>\n",
       "      <td>390.0</td>\n",
       "      <td>-71.0</td>\n",
       "    </tr>\n",
       "    <tr>\n",
       "      <th>1960-12-01</th>\n",
       "      <td>432.0</td>\n",
       "      <td>42.0</td>\n",
       "    </tr>\n",
       "  </tbody>\n",
       "</table>\n",
       "<p>144 rows × 2 columns</p>\n",
       "</div>"
      ],
      "text/plain": [
       "            Thousands of Passengers  Passengers_first_difference\n",
       "Month                                                           \n",
       "1949-01-01                    112.0                          NaN\n",
       "1949-02-01                    118.0                          6.0\n",
       "1949-03-01                    132.0                         14.0\n",
       "1949-04-01                    129.0                         -3.0\n",
       "1949-05-01                    121.0                         -8.0\n",
       "...                             ...                          ...\n",
       "1960-08-01                    606.0                        -16.0\n",
       "1960-09-01                    508.0                        -98.0\n",
       "1960-10-01                    461.0                        -47.0\n",
       "1960-11-01                    390.0                        -71.0\n",
       "1960-12-01                    432.0                         42.0\n",
       "\n",
       "[144 rows x 2 columns]"
      ]
     },
     "execution_count": 34,
     "metadata": {},
     "output_type": "execute_result"
    }
   ],
   "source": [
    "df_airline"
   ]
  },
  {
   "cell_type": "markdown",
   "id": "feccb101-529d-4ca8-a2a8-ab642d25d21f",
   "metadata": {},
   "source": [
    "### Again check if the differenced data is stationary with the Dickey-Fuller test"
   ]
  },
  {
   "cell_type": "code",
   "execution_count": 37,
   "id": "3bb620bc-d479-4bcb-ba18-8327d6de3d73",
   "metadata": {},
   "outputs": [],
   "source": [
    "result = adfuller(df_airline['Passengers_first_difference'].dropna())"
   ]
  },
  {
   "cell_type": "code",
   "execution_count": 38,
   "id": "e1536051-b2f4-4654-afea-b4fb2ef1e850",
   "metadata": {},
   "outputs": [
    {
     "name": "stdout",
     "output_type": "stream",
     "text": [
      "ADF Statistics: -2.829266824169981\n",
      "p-Value: 0.05421329028382792\n",
      "Accept the null hypothesis. Time series has a unit root, indicating this data is non-stationary\n"
     ]
    }
   ],
   "source": [
    "print('ADF Statistics: {}'.format(result[0]))\n",
    "print('p-Value: {}'.format(result[1]))\n",
    "if result[1]<=0.05:\n",
    "    print(\"Strong evidence against the null hypothesis. Reject the null hypothesis. Data is Stationary\")\n",
    "else:\n",
    "    print(\"Accept the null hypothesis. Time series has a unit root, indicating this data is non-stationary\")"
   ]
  },
  {
   "cell_type": "markdown",
   "id": "d6e86ced-c748-4d0d-9b15-90403b13d6cd",
   "metadata": {},
   "source": [
    "### We see that first differencing did not make it stationary. So we can try again with second differencing. This time we calculate difference with respect to the 'Passengers_first_difference' column"
   ]
  },
  {
   "cell_type": "code",
   "execution_count": 39,
   "id": "8a850636-9dc1-4590-8874-2d92942481f4",
   "metadata": {},
   "outputs": [],
   "source": [
    "df_airline['Passengers_second_difference'] = df_airline['Passengers_first_difference'] - df_airline['Passengers_first_difference'].shift(1)"
   ]
  },
  {
   "cell_type": "code",
   "execution_count": 42,
   "id": "e4ec18b5-614f-47f4-ba1a-9669566f3cbf",
   "metadata": {},
   "outputs": [
    {
     "name": "stdout",
     "output_type": "stream",
     "text": [
      "ADF Statistics: -16.384231542468513\n",
      "p-Value: 2.7328918500142026e-29\n",
      "Strong evidence against the null hypothesis. Reject the null hypothesis. Data is Stationary\n"
     ]
    }
   ],
   "source": [
    "adf(df_airline['Passengers_second_difference'].dropna())"
   ]
  },
  {
   "cell_type": "markdown",
   "id": "c6113c7e-f5e0-4d53-b65f-168508cf3a87",
   "metadata": {},
   "source": [
    "### So second differencing made the data stationary. But we know that this is a seasonal data. So in seasonal data we should also make sure that we do 12 months differencing. So now we do 12 differencing but with respect to the original column i.e 'Thousands of Passengers'"
   ]
  },
  {
   "cell_type": "code",
   "execution_count": 43,
   "id": "a3efe62c-0351-4e3b-8701-d085837e493d",
   "metadata": {},
   "outputs": [],
   "source": [
    "df_airline['Passengers_12month_difference'] = df_airline['Thousands of Passengers']-df_airline['Thousands of Passengers'].shift(12)"
   ]
  },
  {
   "cell_type": "code",
   "execution_count": 44,
   "id": "d5f4b086-67d2-4020-a4e2-d64b6b257249",
   "metadata": {},
   "outputs": [
    {
     "name": "stdout",
     "output_type": "stream",
     "text": [
      "ADF Statistics: -3.383020726492481\n",
      "p-Value: 0.011551493085514952\n",
      "Strong evidence against the null hypothesis. Reject the null hypothesis. Data is Stationary\n"
     ]
    }
   ],
   "source": [
    "adf(df_airline['Passengers_12month_difference'].dropna())"
   ]
  },
  {
   "cell_type": "markdown",
   "id": "25c4f61b-fc9b-4f68-9cae-088c6a1b4849",
   "metadata": {},
   "source": [
    "### Note that: For Seasonal, sometimes ARIMA will not work well but SARIMAX will work well"
   ]
  },
  {
   "cell_type": "code",
   "execution_count": null,
   "id": "c962238a-7dcb-481b-ae09-d3d36853eeca",
   "metadata": {},
   "outputs": [],
   "source": []
  },
  {
   "cell_type": "markdown",
   "id": "062efe66-1d7a-485d-acbb-72e1dfc0fafe",
   "metadata": {},
   "source": [
    "### Now plotting the ACF and PACF plots"
   ]
  },
  {
   "cell_type": "code",
   "execution_count": 45,
   "id": "cf929289-42a8-4df9-a9c9-ea05ac9a4313",
   "metadata": {},
   "outputs": [],
   "source": [
    "from statsmodels.graphics.tsaplots import plot_acf,plot_pacf"
   ]
  },
  {
   "cell_type": "markdown",
   "id": "a58d7b4d-40f8-4d9b-9212-ebabf9030bc9",
   "metadata": {},
   "source": [
    "### ACF and PACF plots for 2nd differencing"
   ]
  },
  {
   "cell_type": "code",
   "execution_count": 46,
   "id": "a2618d1e-4c56-49c4-9076-2d06fbee48a8",
   "metadata": {},
   "outputs": [
    {
     "data": {
      "image/png": "[encoded data removed]",
      "text/plain": [
       "<Figure size 640x480 with 1 Axes>"
      ]
     },
     "metadata": {},
     "output_type": "display_data"
    }
   ],
   "source": [
    "acf = plot_acf(df_airline['Passengers_second_difference'].dropna())"
   ]
  },
  {
   "cell_type": "code",
   "execution_count": 47,
   "id": "3e821682-b694-489e-8f52-fd4e6542498e",
   "metadata": {},
   "outputs": [
    {
     "data": {
      "image/png": "[encoded data removed]",
      "text/plain": [
       "<Figure size 640x480 with 1 Axes>"
      ]
     },
     "metadata": {},
     "output_type": "display_data"
    }
   ],
   "source": [
    "pacf = plot_pacf(df_airline['Passengers_second_difference'].dropna())"
   ]
  },
  {
   "cell_type": "markdown",
   "id": "61c76e52-db4a-4163-978f-276d8e8b9b42",
   "metadata": {},
   "source": [
    "### ACF and PACF plots for 12month differencing"
   ]
  },
  {
   "cell_type": "code",
   "execution_count": 48,
   "id": "60e68f0f-2dfb-4a88-bd80-60e57c0aed8d",
   "metadata": {},
   "outputs": [
    {
     "data": {
      "image/png": "[encoded data removed]",
      "text/plain": [
       "<Figure size 640x480 with 1 Axes>"
      ]
     },
     "metadata": {},
     "output_type": "display_data"
    }
   ],
   "source": [
    "acf = plot_acf(df_airline['Passengers_12month_difference'].dropna())"
   ]
  },
  {
   "cell_type": "markdown",
   "id": "7f3b6e33-ab2c-4987-8a19-45ce2b077eeb",
   "metadata": {},
   "source": [
    "#### From the above plot, we select q=5"
   ]
  },
  {
   "cell_type": "code",
   "execution_count": 49,
   "id": "2d0dbce9-4ca0-4495-af22-9509ff5313f9",
   "metadata": {},
   "outputs": [
    {
     "data": {
      "image/png": "[encoded data removed]",
      "text/plain": [
       "<Figure size 640x480 with 1 Axes>"
      ]
     },
     "metadata": {},
     "output_type": "display_data"
    }
   ],
   "source": [
    "pacf = plot_pacf(df_airline['Passengers_12month_difference'].dropna())"
   ]
  },
  {
   "cell_type": "code",
   "execution_count": 50,
   "id": "d1ed2f33-77d4-4dfa-94dd-0a5701c88e57",
   "metadata": {},
   "outputs": [
    {
     "data": {
      "text/html": [
       "<div>\n",
       "<style scoped>\n",
       "    .dataframe tbody tr th:only-of-type {\n",
       "        vertical-align: middle;\n",
       "    }\n",
       "\n",
       "    .dataframe tbody tr th {\n",
       "        vertical-align: top;\n",
       "    }\n",
       "\n",
       "    .dataframe thead th {\n",
       "        text-align: right;\n",
       "    }\n",
       "</style>\n",
       "<table border=\"1\" class=\"dataframe\">\n",
       "  <thead>\n",
       "    <tr style=\"text-align: right;\">\n",
       "      <th></th>\n",
       "      <th>Thousands of Passengers</th>\n",
       "      <th>Passengers_first_difference</th>\n",
       "      <th>Passengers_second_difference</th>\n",
       "      <th>Passengers_12month_difference</th>\n",
       "    </tr>\n",
       "    <tr>\n",
       "      <th>Month</th>\n",
       "      <th></th>\n",
       "      <th></th>\n",
       "      <th></th>\n",
       "      <th></th>\n",
       "    </tr>\n",
       "  </thead>\n",
       "  <tbody>\n",
       "    <tr>\n",
       "      <th>1949-01-01</th>\n",
       "      <td>112.0</td>\n",
       "      <td>NaN</td>\n",
       "      <td>NaN</td>\n",
       "      <td>NaN</td>\n",
       "    </tr>\n",
       "    <tr>\n",
       "      <th>1949-02-01</th>\n",
       "      <td>118.0</td>\n",
       "      <td>6.0</td>\n",
       "      <td>NaN</td>\n",
       "      <td>NaN</td>\n",
       "    </tr>\n",
       "    <tr>\n",
       "      <th>1949-03-01</th>\n",
       "      <td>132.0</td>\n",
       "      <td>14.0</td>\n",
       "      <td>8.0</td>\n",
       "      <td>NaN</td>\n",
       "    </tr>\n",
       "    <tr>\n",
       "      <th>1949-04-01</th>\n",
       "      <td>129.0</td>\n",
       "      <td>-3.0</td>\n",
       "      <td>-17.0</td>\n",
       "      <td>NaN</td>\n",
       "    </tr>\n",
       "    <tr>\n",
       "      <th>1949-05-01</th>\n",
       "      <td>121.0</td>\n",
       "      <td>-8.0</td>\n",
       "      <td>-5.0</td>\n",
       "      <td>NaN</td>\n",
       "    </tr>\n",
       "    <tr>\n",
       "      <th>...</th>\n",
       "      <td>...</td>\n",
       "      <td>...</td>\n",
       "      <td>...</td>\n",
       "      <td>...</td>\n",
       "    </tr>\n",
       "    <tr>\n",
       "      <th>1960-08-01</th>\n",
       "      <td>606.0</td>\n",
       "      <td>-16.0</td>\n",
       "      <td>-103.0</td>\n",
       "      <td>47.0</td>\n",
       "    </tr>\n",
       "    <tr>\n",
       "      <th>1960-09-01</th>\n",
       "      <td>508.0</td>\n",
       "      <td>-98.0</td>\n",
       "      <td>-82.0</td>\n",
       "      <td>45.0</td>\n",
       "    </tr>\n",
       "    <tr>\n",
       "      <th>1960-10-01</th>\n",
       "      <td>461.0</td>\n",
       "      <td>-47.0</td>\n",
       "      <td>51.0</td>\n",
       "      <td>54.0</td>\n",
       "    </tr>\n",
       "    <tr>\n",
       "      <th>1960-11-01</th>\n",
       "      <td>390.0</td>\n",
       "      <td>-71.0</td>\n",
       "      <td>-24.0</td>\n",
       "      <td>28.0</td>\n",
       "    </tr>\n",
       "    <tr>\n",
       "      <th>1960-12-01</th>\n",
       "      <td>432.0</td>\n",
       "      <td>42.0</td>\n",
       "      <td>113.0</td>\n",
       "      <td>27.0</td>\n",
       "    </tr>\n",
       "  </tbody>\n",
       "</table>\n",
       "<p>144 rows × 4 columns</p>\n",
       "</div>"
      ],
      "text/plain": [
       "            Thousands of Passengers  Passengers_first_difference  \\\n",
       "Month                                                              \n",
       "1949-01-01                    112.0                          NaN   \n",
       "1949-02-01                    118.0                          6.0   \n",
       "1949-03-01                    132.0                         14.0   \n",
       "1949-04-01                    129.0                         -3.0   \n",
       "1949-05-01                    121.0                         -8.0   \n",
       "...                             ...                          ...   \n",
       "1960-08-01                    606.0                        -16.0   \n",
       "1960-09-01                    508.0                        -98.0   \n",
       "1960-10-01                    461.0                        -47.0   \n",
       "1960-11-01                    390.0                        -71.0   \n",
       "1960-12-01                    432.0                         42.0   \n",
       "\n",
       "            Passengers_second_difference  Passengers_12month_difference  \n",
       "Month                                                                    \n",
       "1949-01-01                           NaN                            NaN  \n",
       "1949-02-01                           NaN                            NaN  \n",
       "1949-03-01                           8.0                            NaN  \n",
       "1949-04-01                         -17.0                            NaN  \n",
       "1949-05-01                          -5.0                            NaN  \n",
       "...                                  ...                            ...  \n",
       "1960-08-01                        -103.0                           47.0  \n",
       "1960-09-01                         -82.0                           45.0  \n",
       "1960-10-01                          51.0                           54.0  \n",
       "1960-11-01                         -24.0                           28.0  \n",
       "1960-12-01                         113.0                           27.0  \n",
       "\n",
       "[144 rows x 4 columns]"
      ]
     },
     "execution_count": 50,
     "metadata": {},
     "output_type": "execute_result"
    }
   ],
   "source": [
    "df_airline"
   ]
  },
  {
   "cell_type": "code",
   "execution_count": 51,
   "id": "487f6b49-5015-4db1-b7b9-ddbeba30fe50",
   "metadata": {},
   "outputs": [],
   "source": [
    "from datetime import datetime,timedelta"
   ]
  },
  {
   "cell_type": "code",
   "execution_count": 52,
   "id": "317534af-4ed0-45b5-9a1c-90f812a18b1d",
   "metadata": {},
   "outputs": [],
   "source": [
    "train_dataset_end = datetime(1955,12,1)\n",
    "test_dataset_end = datetime(1960,12,1)"
   ]
  },
  {
   "cell_type": "code",
   "execution_count": 53,
   "id": "1b7bbe4c-4403-4414-8c3f-4d7d1f104d46",
   "metadata": {},
   "outputs": [],
   "source": [
    "train_data = df_airline[:train_dataset_end]\n",
    "test_data = df_airline[train_dataset_end+timedelta(days=1):test_dataset_end]"
   ]
  },
  {
   "cell_type": "code",
   "execution_count": 58,
   "id": "d16247a8-ce69-4d47-a148-ba86c516a1bc",
   "metadata": {},
   "outputs": [
    {
     "data": {
      "text/plain": [
       "Timestamp('1955-12-01 00:00:00')"
      ]
     },
     "execution_count": 58,
     "metadata": {},
     "output_type": "execute_result"
    }
   ],
   "source": [
    "train_data.index[83]"
   ]
  },
  {
   "cell_type": "code",
   "execution_count": 55,
   "id": "fb53f0d6-47ff-4d01-881e-3e791a33db6a",
   "metadata": {},
   "outputs": [
    {
     "data": {
      "text/plain": [
       "Timestamp('1956-01-01 00:00:00')"
      ]
     },
     "execution_count": 55,
     "metadata": {},
     "output_type": "execute_result"
    }
   ],
   "source": [
    "test_data.index[0]"
   ]
  },
  {
   "cell_type": "code",
   "execution_count": 59,
   "id": "ba2e3dd6-a14f-4846-bc35-a43422d2f3a0",
   "metadata": {},
   "outputs": [],
   "source": [
    "pred_start_date = test_data.index[0]\n",
    "pred_end_date = test_data.index[-1]"
   ]
  },
  {
   "cell_type": "code",
   "execution_count": 61,
   "id": "f4431f20-ca57-469f-834c-f7f0c2e712e8",
   "metadata": {},
   "outputs": [
    {
     "data": {
      "text/html": [
       "<div>\n",
       "<style scoped>\n",
       "    .dataframe tbody tr th:only-of-type {\n",
       "        vertical-align: middle;\n",
       "    }\n",
       "\n",
       "    .dataframe tbody tr th {\n",
       "        vertical-align: top;\n",
       "    }\n",
       "\n",
       "    .dataframe thead th {\n",
       "        text-align: right;\n",
       "    }\n",
       "</style>\n",
       "<table border=\"1\" class=\"dataframe\">\n",
       "  <thead>\n",
       "    <tr style=\"text-align: right;\">\n",
       "      <th></th>\n",
       "      <th>Thousands of Passengers</th>\n",
       "      <th>Passengers_first_difference</th>\n",
       "      <th>Passengers_second_difference</th>\n",
       "      <th>Passengers_12month_difference</th>\n",
       "    </tr>\n",
       "    <tr>\n",
       "      <th>Month</th>\n",
       "      <th></th>\n",
       "      <th></th>\n",
       "      <th></th>\n",
       "      <th></th>\n",
       "    </tr>\n",
       "  </thead>\n",
       "  <tbody>\n",
       "    <tr>\n",
       "      <th>1956-01-01</th>\n",
       "      <td>284.0</td>\n",
       "      <td>6.0</td>\n",
       "      <td>-35.0</td>\n",
       "      <td>42.0</td>\n",
       "    </tr>\n",
       "    <tr>\n",
       "      <th>1956-02-01</th>\n",
       "      <td>277.0</td>\n",
       "      <td>-7.0</td>\n",
       "      <td>-13.0</td>\n",
       "      <td>44.0</td>\n",
       "    </tr>\n",
       "    <tr>\n",
       "      <th>1956-03-01</th>\n",
       "      <td>317.0</td>\n",
       "      <td>40.0</td>\n",
       "      <td>47.0</td>\n",
       "      <td>50.0</td>\n",
       "    </tr>\n",
       "    <tr>\n",
       "      <th>1956-04-01</th>\n",
       "      <td>313.0</td>\n",
       "      <td>-4.0</td>\n",
       "      <td>-44.0</td>\n",
       "      <td>44.0</td>\n",
       "    </tr>\n",
       "    <tr>\n",
       "      <th>1956-05-01</th>\n",
       "      <td>318.0</td>\n",
       "      <td>5.0</td>\n",
       "      <td>9.0</td>\n",
       "      <td>48.0</td>\n",
       "    </tr>\n",
       "    <tr>\n",
       "      <th>1956-06-01</th>\n",
       "      <td>374.0</td>\n",
       "      <td>56.0</td>\n",
       "      <td>51.0</td>\n",
       "      <td>59.0</td>\n",
       "    </tr>\n",
       "    <tr>\n",
       "      <th>1956-07-01</th>\n",
       "      <td>413.0</td>\n",
       "      <td>39.0</td>\n",
       "      <td>-17.0</td>\n",
       "      <td>49.0</td>\n",
       "    </tr>\n",
       "    <tr>\n",
       "      <th>1956-08-01</th>\n",
       "      <td>405.0</td>\n",
       "      <td>-8.0</td>\n",
       "      <td>-47.0</td>\n",
       "      <td>58.0</td>\n",
       "    </tr>\n",
       "    <tr>\n",
       "      <th>1956-09-01</th>\n",
       "      <td>355.0</td>\n",
       "      <td>-50.0</td>\n",
       "      <td>-42.0</td>\n",
       "      <td>43.0</td>\n",
       "    </tr>\n",
       "    <tr>\n",
       "      <th>1956-10-01</th>\n",
       "      <td>306.0</td>\n",
       "      <td>-49.0</td>\n",
       "      <td>1.0</td>\n",
       "      <td>32.0</td>\n",
       "    </tr>\n",
       "    <tr>\n",
       "      <th>1956-11-01</th>\n",
       "      <td>271.0</td>\n",
       "      <td>-35.0</td>\n",
       "      <td>14.0</td>\n",
       "      <td>34.0</td>\n",
       "    </tr>\n",
       "    <tr>\n",
       "      <th>1956-12-01</th>\n",
       "      <td>306.0</td>\n",
       "      <td>35.0</td>\n",
       "      <td>70.0</td>\n",
       "      <td>28.0</td>\n",
       "    </tr>\n",
       "    <tr>\n",
       "      <th>1957-01-01</th>\n",
       "      <td>315.0</td>\n",
       "      <td>9.0</td>\n",
       "      <td>-26.0</td>\n",
       "      <td>31.0</td>\n",
       "    </tr>\n",
       "    <tr>\n",
       "      <th>1957-02-01</th>\n",
       "      <td>301.0</td>\n",
       "      <td>-14.0</td>\n",
       "      <td>-23.0</td>\n",
       "      <td>24.0</td>\n",
       "    </tr>\n",
       "    <tr>\n",
       "      <th>1957-03-01</th>\n",
       "      <td>356.0</td>\n",
       "      <td>55.0</td>\n",
       "      <td>69.0</td>\n",
       "      <td>39.0</td>\n",
       "    </tr>\n",
       "    <tr>\n",
       "      <th>1957-04-01</th>\n",
       "      <td>348.0</td>\n",
       "      <td>-8.0</td>\n",
       "      <td>-63.0</td>\n",
       "      <td>35.0</td>\n",
       "    </tr>\n",
       "    <tr>\n",
       "      <th>1957-05-01</th>\n",
       "      <td>355.0</td>\n",
       "      <td>7.0</td>\n",
       "      <td>15.0</td>\n",
       "      <td>37.0</td>\n",
       "    </tr>\n",
       "    <tr>\n",
       "      <th>1957-06-01</th>\n",
       "      <td>422.0</td>\n",
       "      <td>67.0</td>\n",
       "      <td>60.0</td>\n",
       "      <td>48.0</td>\n",
       "    </tr>\n",
       "    <tr>\n",
       "      <th>1957-07-01</th>\n",
       "      <td>465.0</td>\n",
       "      <td>43.0</td>\n",
       "      <td>-24.0</td>\n",
       "      <td>52.0</td>\n",
       "    </tr>\n",
       "    <tr>\n",
       "      <th>1957-08-01</th>\n",
       "      <td>467.0</td>\n",
       "      <td>2.0</td>\n",
       "      <td>-41.0</td>\n",
       "      <td>62.0</td>\n",
       "    </tr>\n",
       "    <tr>\n",
       "      <th>1957-09-01</th>\n",
       "      <td>404.0</td>\n",
       "      <td>-63.0</td>\n",
       "      <td>-65.0</td>\n",
       "      <td>49.0</td>\n",
       "    </tr>\n",
       "    <tr>\n",
       "      <th>1957-10-01</th>\n",
       "      <td>347.0</td>\n",
       "      <td>-57.0</td>\n",
       "      <td>6.0</td>\n",
       "      <td>41.0</td>\n",
       "    </tr>\n",
       "    <tr>\n",
       "      <th>1957-11-01</th>\n",
       "      <td>305.0</td>\n",
       "      <td>-42.0</td>\n",
       "      <td>15.0</td>\n",
       "      <td>34.0</td>\n",
       "    </tr>\n",
       "    <tr>\n",
       "      <th>1957-12-01</th>\n",
       "      <td>336.0</td>\n",
       "      <td>31.0</td>\n",
       "      <td>73.0</td>\n",
       "      <td>30.0</td>\n",
       "    </tr>\n",
       "    <tr>\n",
       "      <th>1958-01-01</th>\n",
       "      <td>340.0</td>\n",
       "      <td>4.0</td>\n",
       "      <td>-27.0</td>\n",
       "      <td>25.0</td>\n",
       "    </tr>\n",
       "    <tr>\n",
       "      <th>1958-02-01</th>\n",
       "      <td>318.0</td>\n",
       "      <td>-22.0</td>\n",
       "      <td>-26.0</td>\n",
       "      <td>17.0</td>\n",
       "    </tr>\n",
       "    <tr>\n",
       "      <th>1958-03-01</th>\n",
       "      <td>362.0</td>\n",
       "      <td>44.0</td>\n",
       "      <td>66.0</td>\n",
       "      <td>6.0</td>\n",
       "    </tr>\n",
       "    <tr>\n",
       "      <th>1958-04-01</th>\n",
       "      <td>348.0</td>\n",
       "      <td>-14.0</td>\n",
       "      <td>-58.0</td>\n",
       "      <td>0.0</td>\n",
       "    </tr>\n",
       "    <tr>\n",
       "      <th>1958-05-01</th>\n",
       "      <td>363.0</td>\n",
       "      <td>15.0</td>\n",
       "      <td>29.0</td>\n",
       "      <td>8.0</td>\n",
       "    </tr>\n",
       "    <tr>\n",
       "      <th>1958-06-01</th>\n",
       "      <td>435.0</td>\n",
       "      <td>72.0</td>\n",
       "      <td>57.0</td>\n",
       "      <td>13.0</td>\n",
       "    </tr>\n",
       "    <tr>\n",
       "      <th>1958-07-01</th>\n",
       "      <td>491.0</td>\n",
       "      <td>56.0</td>\n",
       "      <td>-16.0</td>\n",
       "      <td>26.0</td>\n",
       "    </tr>\n",
       "    <tr>\n",
       "      <th>1958-08-01</th>\n",
       "      <td>505.0</td>\n",
       "      <td>14.0</td>\n",
       "      <td>-42.0</td>\n",
       "      <td>38.0</td>\n",
       "    </tr>\n",
       "    <tr>\n",
       "      <th>1958-09-01</th>\n",
       "      <td>404.0</td>\n",
       "      <td>-101.0</td>\n",
       "      <td>-115.0</td>\n",
       "      <td>0.0</td>\n",
       "    </tr>\n",
       "    <tr>\n",
       "      <th>1958-10-01</th>\n",
       "      <td>359.0</td>\n",
       "      <td>-45.0</td>\n",
       "      <td>56.0</td>\n",
       "      <td>12.0</td>\n",
       "    </tr>\n",
       "    <tr>\n",
       "      <th>1958-11-01</th>\n",
       "      <td>310.0</td>\n",
       "      <td>-49.0</td>\n",
       "      <td>-4.0</td>\n",
       "      <td>5.0</td>\n",
       "    </tr>\n",
       "    <tr>\n",
       "      <th>1958-12-01</th>\n",
       "      <td>337.0</td>\n",
       "      <td>27.0</td>\n",
       "      <td>76.0</td>\n",
       "      <td>1.0</td>\n",
       "    </tr>\n",
       "    <tr>\n",
       "      <th>1959-01-01</th>\n",
       "      <td>360.0</td>\n",
       "      <td>23.0</td>\n",
       "      <td>-4.0</td>\n",
       "      <td>20.0</td>\n",
       "    </tr>\n",
       "    <tr>\n",
       "      <th>1959-02-01</th>\n",
       "      <td>342.0</td>\n",
       "      <td>-18.0</td>\n",
       "      <td>-41.0</td>\n",
       "      <td>24.0</td>\n",
       "    </tr>\n",
       "    <tr>\n",
       "      <th>1959-03-01</th>\n",
       "      <td>406.0</td>\n",
       "      <td>64.0</td>\n",
       "      <td>82.0</td>\n",
       "      <td>44.0</td>\n",
       "    </tr>\n",
       "    <tr>\n",
       "      <th>1959-04-01</th>\n",
       "      <td>396.0</td>\n",
       "      <td>-10.0</td>\n",
       "      <td>-74.0</td>\n",
       "      <td>48.0</td>\n",
       "    </tr>\n",
       "    <tr>\n",
       "      <th>1959-05-01</th>\n",
       "      <td>420.0</td>\n",
       "      <td>24.0</td>\n",
       "      <td>34.0</td>\n",
       "      <td>57.0</td>\n",
       "    </tr>\n",
       "    <tr>\n",
       "      <th>1959-06-01</th>\n",
       "      <td>472.0</td>\n",
       "      <td>52.0</td>\n",
       "      <td>28.0</td>\n",
       "      <td>37.0</td>\n",
       "    </tr>\n",
       "    <tr>\n",
       "      <th>1959-07-01</th>\n",
       "      <td>548.0</td>\n",
       "      <td>76.0</td>\n",
       "      <td>24.0</td>\n",
       "      <td>57.0</td>\n",
       "    </tr>\n",
       "    <tr>\n",
       "      <th>1959-08-01</th>\n",
       "      <td>559.0</td>\n",
       "      <td>11.0</td>\n",
       "      <td>-65.0</td>\n",
       "      <td>54.0</td>\n",
       "    </tr>\n",
       "    <tr>\n",
       "      <th>1959-09-01</th>\n",
       "      <td>463.0</td>\n",
       "      <td>-96.0</td>\n",
       "      <td>-107.0</td>\n",
       "      <td>59.0</td>\n",
       "    </tr>\n",
       "    <tr>\n",
       "      <th>1959-10-01</th>\n",
       "      <td>407.0</td>\n",
       "      <td>-56.0</td>\n",
       "      <td>40.0</td>\n",
       "      <td>48.0</td>\n",
       "    </tr>\n",
       "    <tr>\n",
       "      <th>1959-11-01</th>\n",
       "      <td>362.0</td>\n",
       "      <td>-45.0</td>\n",
       "      <td>11.0</td>\n",
       "      <td>52.0</td>\n",
       "    </tr>\n",
       "    <tr>\n",
       "      <th>1959-12-01</th>\n",
       "      <td>405.0</td>\n",
       "      <td>43.0</td>\n",
       "      <td>88.0</td>\n",
       "      <td>68.0</td>\n",
       "    </tr>\n",
       "    <tr>\n",
       "      <th>1960-01-01</th>\n",
       "      <td>417.0</td>\n",
       "      <td>12.0</td>\n",
       "      <td>-31.0</td>\n",
       "      <td>57.0</td>\n",
       "    </tr>\n",
       "    <tr>\n",
       "      <th>1960-02-01</th>\n",
       "      <td>391.0</td>\n",
       "      <td>-26.0</td>\n",
       "      <td>-38.0</td>\n",
       "      <td>49.0</td>\n",
       "    </tr>\n",
       "    <tr>\n",
       "      <th>1960-03-01</th>\n",
       "      <td>419.0</td>\n",
       "      <td>28.0</td>\n",
       "      <td>54.0</td>\n",
       "      <td>13.0</td>\n",
       "    </tr>\n",
       "    <tr>\n",
       "      <th>1960-04-01</th>\n",
       "      <td>461.0</td>\n",
       "      <td>42.0</td>\n",
       "      <td>14.0</td>\n",
       "      <td>65.0</td>\n",
       "    </tr>\n",
       "    <tr>\n",
       "      <th>1960-05-01</th>\n",
       "      <td>472.0</td>\n",
       "      <td>11.0</td>\n",
       "      <td>-31.0</td>\n",
       "      <td>52.0</td>\n",
       "    </tr>\n",
       "    <tr>\n",
       "      <th>1960-06-01</th>\n",
       "      <td>535.0</td>\n",
       "      <td>63.0</td>\n",
       "      <td>52.0</td>\n",
       "      <td>63.0</td>\n",
       "    </tr>\n",
       "    <tr>\n",
       "      <th>1960-07-01</th>\n",
       "      <td>622.0</td>\n",
       "      <td>87.0</td>\n",
       "      <td>24.0</td>\n",
       "      <td>74.0</td>\n",
       "    </tr>\n",
       "    <tr>\n",
       "      <th>1960-08-01</th>\n",
       "      <td>606.0</td>\n",
       "      <td>-16.0</td>\n",
       "      <td>-103.0</td>\n",
       "      <td>47.0</td>\n",
       "    </tr>\n",
       "    <tr>\n",
       "      <th>1960-09-01</th>\n",
       "      <td>508.0</td>\n",
       "      <td>-98.0</td>\n",
       "      <td>-82.0</td>\n",
       "      <td>45.0</td>\n",
       "    </tr>\n",
       "    <tr>\n",
       "      <th>1960-10-01</th>\n",
       "      <td>461.0</td>\n",
       "      <td>-47.0</td>\n",
       "      <td>51.0</td>\n",
       "      <td>54.0</td>\n",
       "    </tr>\n",
       "    <tr>\n",
       "      <th>1960-11-01</th>\n",
       "      <td>390.0</td>\n",
       "      <td>-71.0</td>\n",
       "      <td>-24.0</td>\n",
       "      <td>28.0</td>\n",
       "    </tr>\n",
       "    <tr>\n",
       "      <th>1960-12-01</th>\n",
       "      <td>432.0</td>\n",
       "      <td>42.0</td>\n",
       "      <td>113.0</td>\n",
       "      <td>27.0</td>\n",
       "    </tr>\n",
       "  </tbody>\n",
       "</table>\n",
       "</div>"
      ],
      "text/plain": [
       "            Thousands of Passengers  Passengers_first_difference  \\\n",
       "Month                                                              \n",
       "1956-01-01                    284.0                          6.0   \n",
       "1956-02-01                    277.0                         -7.0   \n",
       "1956-03-01                    317.0                         40.0   \n",
       "1956-04-01                    313.0                         -4.0   \n",
       "1956-05-01                    318.0                          5.0   \n",
       "1956-06-01                    374.0                         56.0   \n",
       "1956-07-01                    413.0                         39.0   \n",
       "1956-08-01                    405.0                         -8.0   \n",
       "1956-09-01                    355.0                        -50.0   \n",
       "1956-10-01                    306.0                        -49.0   \n",
       "1956-11-01                    271.0                        -35.0   \n",
       "1956-12-01                    306.0                         35.0   \n",
       "1957-01-01                    315.0                          9.0   \n",
       "1957-02-01                    301.0                        -14.0   \n",
       "1957-03-01                    356.0                         55.0   \n",
       "1957-04-01                    348.0                         -8.0   \n",
       "1957-05-01                    355.0                          7.0   \n",
       "1957-06-01                    422.0                         67.0   \n",
       "1957-07-01                    465.0                         43.0   \n",
       "1957-08-01                    467.0                          2.0   \n",
       "1957-09-01                    404.0                        -63.0   \n",
       "1957-10-01                    347.0                        -57.0   \n",
       "1957-11-01                    305.0                        -42.0   \n",
       "1957-12-01                    336.0                         31.0   \n",
       "1958-01-01                    340.0                          4.0   \n",
       "1958-02-01                    318.0                        -22.0   \n",
       "1958-03-01                    362.0                         44.0   \n",
       "1958-04-01                    348.0                        -14.0   \n",
       "1958-05-01                    363.0                         15.0   \n",
       "1958-06-01                    435.0                         72.0   \n",
       "1958-07-01                    491.0                         56.0   \n",
       "1958-08-01                    505.0                         14.0   \n",
       "1958-09-01                    404.0                       -101.0   \n",
       "1958-10-01                    359.0                        -45.0   \n",
       "1958-11-01                    310.0                        -49.0   \n",
       "1958-12-01                    337.0                         27.0   \n",
       "1959-01-01                    360.0                         23.0   \n",
       "1959-02-01                    342.0                        -18.0   \n",
       "1959-03-01                    406.0                         64.0   \n",
       "1959-04-01                    396.0                        -10.0   \n",
       "1959-05-01                    420.0                         24.0   \n",
       "1959-06-01                    472.0                         52.0   \n",
       "1959-07-01                    548.0                         76.0   \n",
       "1959-08-01                    559.0                         11.0   \n",
       "1959-09-01                    463.0                        -96.0   \n",
       "1959-10-01                    407.0                        -56.0   \n",
       "1959-11-01                    362.0                        -45.0   \n",
       "1959-12-01                    405.0                         43.0   \n",
       "1960-01-01                    417.0                         12.0   \n",
       "1960-02-01                    391.0                        -26.0   \n",
       "1960-03-01                    419.0                         28.0   \n",
       "1960-04-01                    461.0                         42.0   \n",
       "1960-05-01                    472.0                         11.0   \n",
       "1960-06-01                    535.0                         63.0   \n",
       "1960-07-01                    622.0                         87.0   \n",
       "1960-08-01                    606.0                        -16.0   \n",
       "1960-09-01                    508.0                        -98.0   \n",
       "1960-10-01                    461.0                        -47.0   \n",
       "1960-11-01                    390.0                        -71.0   \n",
       "1960-12-01                    432.0                         42.0   \n",
       "\n",
       "            Passengers_second_difference  Passengers_12month_difference  \n",
       "Month                                                                    \n",
       "1956-01-01                         -35.0                           42.0  \n",
       "1956-02-01                         -13.0                           44.0  \n",
       "1956-03-01                          47.0                           50.0  \n",
       "1956-04-01                         -44.0                           44.0  \n",
       "1956-05-01                           9.0                           48.0  \n",
       "1956-06-01                          51.0                           59.0  \n",
       "1956-07-01                         -17.0                           49.0  \n",
       "1956-08-01                         -47.0                           58.0  \n",
       "1956-09-01                         -42.0                           43.0  \n",
       "1956-10-01                           1.0                           32.0  \n",
       "1956-11-01                          14.0                           34.0  \n",
       "1956-12-01                          70.0                           28.0  \n",
       "1957-01-01                         -26.0                           31.0  \n",
       "1957-02-01                         -23.0                           24.0  \n",
       "1957-03-01                          69.0                           39.0  \n",
       "1957-04-01                         -63.0                           35.0  \n",
       "1957-05-01                          15.0                           37.0  \n",
       "1957-06-01                          60.0                           48.0  \n",
       "1957-07-01                         -24.0                           52.0  \n",
       "1957-08-01                         -41.0                           62.0  \n",
       "1957-09-01                         -65.0                           49.0  \n",
       "1957-10-01                           6.0                           41.0  \n",
       "1957-11-01                          15.0                           34.0  \n",
       "1957-12-01                          73.0                           30.0  \n",
       "1958-01-01                         -27.0                           25.0  \n",
       "1958-02-01                         -26.0                           17.0  \n",
       "1958-03-01                          66.0                            6.0  \n",
       "1958-04-01                         -58.0                            0.0  \n",
       "1958-05-01                          29.0                            8.0  \n",
       "1958-06-01                          57.0                           13.0  \n",
       "1958-07-01                         -16.0                           26.0  \n",
       "1958-08-01                         -42.0                           38.0  \n",
       "1958-09-01                        -115.0                            0.0  \n",
       "1958-10-01                          56.0                           12.0  \n",
       "1958-11-01                          -4.0                            5.0  \n",
       "1958-12-01                          76.0                            1.0  \n",
       "1959-01-01                          -4.0                           20.0  \n",
       "1959-02-01                         -41.0                           24.0  \n",
       "1959-03-01                          82.0                           44.0  \n",
       "1959-04-01                         -74.0                           48.0  \n",
       "1959-05-01                          34.0                           57.0  \n",
       "1959-06-01                          28.0                           37.0  \n",
       "1959-07-01                          24.0                           57.0  \n",
       "1959-08-01                         -65.0                           54.0  \n",
       "1959-09-01                        -107.0                           59.0  \n",
       "1959-10-01                          40.0                           48.0  \n",
       "1959-11-01                          11.0                           52.0  \n",
       "1959-12-01                          88.0                           68.0  \n",
       "1960-01-01                         -31.0                           57.0  \n",
       "1960-02-01                         -38.0                           49.0  \n",
       "1960-03-01                          54.0                           13.0  \n",
       "1960-04-01                          14.0                           65.0  \n",
       "1960-05-01                         -31.0                           52.0  \n",
       "1960-06-01                          52.0                           63.0  \n",
       "1960-07-01                          24.0                           74.0  \n",
       "1960-08-01                        -103.0                           47.0  \n",
       "1960-09-01                         -82.0                           45.0  \n",
       "1960-10-01                          51.0                           54.0  \n",
       "1960-11-01                         -24.0                           28.0  \n",
       "1960-12-01                         113.0                           27.0  "
      ]
     },
     "execution_count": 61,
     "metadata": {},
     "output_type": "execute_result"
    }
   ],
   "source": [
    "test_data"
   ]
  },
  {
   "cell_type": "code",
   "execution_count": 65,
   "id": "c436d8e8-ad4d-43e3-9444-72407f838180",
   "metadata": {},
   "outputs": [],
   "source": [
    "from statsmodels.tsa.arima.model import ARIMA"
   ]
  },
  {
   "cell_type": "code",
   "execution_count": 63,
   "id": "e22eba96-050b-4665-a15e-57510cce1b3c",
   "metadata": {},
   "outputs": [
    {
     "data": {
      "text/html": [
       "<div>\n",
       "<style scoped>\n",
       "    .dataframe tbody tr th:only-of-type {\n",
       "        vertical-align: middle;\n",
       "    }\n",
       "\n",
       "    .dataframe tbody tr th {\n",
       "        vertical-align: top;\n",
       "    }\n",
       "\n",
       "    .dataframe thead th {\n",
       "        text-align: right;\n",
       "    }\n",
       "</style>\n",
       "<table border=\"1\" class=\"dataframe\">\n",
       "  <thead>\n",
       "    <tr style=\"text-align: right;\">\n",
       "      <th></th>\n",
       "      <th>Thousands of Passengers</th>\n",
       "      <th>Passengers_first_difference</th>\n",
       "      <th>Passengers_second_difference</th>\n",
       "      <th>Passengers_12month_difference</th>\n",
       "    </tr>\n",
       "    <tr>\n",
       "      <th>Month</th>\n",
       "      <th></th>\n",
       "      <th></th>\n",
       "      <th></th>\n",
       "      <th></th>\n",
       "    </tr>\n",
       "  </thead>\n",
       "  <tbody>\n",
       "    <tr>\n",
       "      <th>1949-01-01</th>\n",
       "      <td>112.0</td>\n",
       "      <td>NaN</td>\n",
       "      <td>NaN</td>\n",
       "      <td>NaN</td>\n",
       "    </tr>\n",
       "    <tr>\n",
       "      <th>1949-02-01</th>\n",
       "      <td>118.0</td>\n",
       "      <td>6.0</td>\n",
       "      <td>NaN</td>\n",
       "      <td>NaN</td>\n",
       "    </tr>\n",
       "    <tr>\n",
       "      <th>1949-03-01</th>\n",
       "      <td>132.0</td>\n",
       "      <td>14.0</td>\n",
       "      <td>8.0</td>\n",
       "      <td>NaN</td>\n",
       "    </tr>\n",
       "    <tr>\n",
       "      <th>1949-04-01</th>\n",
       "      <td>129.0</td>\n",
       "      <td>-3.0</td>\n",
       "      <td>-17.0</td>\n",
       "      <td>NaN</td>\n",
       "    </tr>\n",
       "    <tr>\n",
       "      <th>1949-05-01</th>\n",
       "      <td>121.0</td>\n",
       "      <td>-8.0</td>\n",
       "      <td>-5.0</td>\n",
       "      <td>NaN</td>\n",
       "    </tr>\n",
       "    <tr>\n",
       "      <th>...</th>\n",
       "      <td>...</td>\n",
       "      <td>...</td>\n",
       "      <td>...</td>\n",
       "      <td>...</td>\n",
       "    </tr>\n",
       "    <tr>\n",
       "      <th>1955-08-01</th>\n",
       "      <td>347.0</td>\n",
       "      <td>-17.0</td>\n",
       "      <td>-66.0</td>\n",
       "      <td>54.0</td>\n",
       "    </tr>\n",
       "    <tr>\n",
       "      <th>1955-09-01</th>\n",
       "      <td>312.0</td>\n",
       "      <td>-35.0</td>\n",
       "      <td>-18.0</td>\n",
       "      <td>53.0</td>\n",
       "    </tr>\n",
       "    <tr>\n",
       "      <th>1955-10-01</th>\n",
       "      <td>274.0</td>\n",
       "      <td>-38.0</td>\n",
       "      <td>-3.0</td>\n",
       "      <td>45.0</td>\n",
       "    </tr>\n",
       "    <tr>\n",
       "      <th>1955-11-01</th>\n",
       "      <td>237.0</td>\n",
       "      <td>-37.0</td>\n",
       "      <td>1.0</td>\n",
       "      <td>34.0</td>\n",
       "    </tr>\n",
       "    <tr>\n",
       "      <th>1955-12-01</th>\n",
       "      <td>278.0</td>\n",
       "      <td>41.0</td>\n",
       "      <td>78.0</td>\n",
       "      <td>49.0</td>\n",
       "    </tr>\n",
       "  </tbody>\n",
       "</table>\n",
       "<p>84 rows × 4 columns</p>\n",
       "</div>"
      ],
      "text/plain": [
       "            Thousands of Passengers  Passengers_first_difference  \\\n",
       "Month                                                              \n",
       "1949-01-01                    112.0                          NaN   \n",
       "1949-02-01                    118.0                          6.0   \n",
       "1949-03-01                    132.0                         14.0   \n",
       "1949-04-01                    129.0                         -3.0   \n",
       "1949-05-01                    121.0                         -8.0   \n",
       "...                             ...                          ...   \n",
       "1955-08-01                    347.0                        -17.0   \n",
       "1955-09-01                    312.0                        -35.0   \n",
       "1955-10-01                    274.0                        -38.0   \n",
       "1955-11-01                    237.0                        -37.0   \n",
       "1955-12-01                    278.0                         41.0   \n",
       "\n",
       "            Passengers_second_difference  Passengers_12month_difference  \n",
       "Month                                                                    \n",
       "1949-01-01                           NaN                            NaN  \n",
       "1949-02-01                           NaN                            NaN  \n",
       "1949-03-01                           8.0                            NaN  \n",
       "1949-04-01                         -17.0                            NaN  \n",
       "1949-05-01                          -5.0                            NaN  \n",
       "...                                  ...                            ...  \n",
       "1955-08-01                         -66.0                           54.0  \n",
       "1955-09-01                         -18.0                           53.0  \n",
       "1955-10-01                          -3.0                           45.0  \n",
       "1955-11-01                           1.0                           34.0  \n",
       "1955-12-01                          78.0                           49.0  \n",
       "\n",
       "[84 rows x 4 columns]"
      ]
     },
     "execution_count": 63,
     "metadata": {},
     "output_type": "execute_result"
    }
   ],
   "source": [
    "train_data"
   ]
  },
  {
   "cell_type": "code",
   "execution_count": 67,
   "id": "8e75c42b-e9ee-4a82-ae5d-13ddac2fbe10",
   "metadata": {},
   "outputs": [
    {
     "name": "stderr",
     "output_type": "stream",
     "text": [
      "/Users/sushantkotwal96/tensorflow_vs_code/lib/python3.9/site-packages/statsmodels/tsa/base/tsa_model.py:473: ValueWarning: No frequency information was provided, so inferred frequency MS will be used.\n",
      "  self._init_dates(dates, freq)\n",
      "/Users/sushantkotwal96/tensorflow_vs_code/lib/python3.9/site-packages/statsmodels/tsa/base/tsa_model.py:473: ValueWarning: No frequency information was provided, so inferred frequency MS will be used.\n",
      "  self._init_dates(dates, freq)\n",
      "/Users/sushantkotwal96/tensorflow_vs_code/lib/python3.9/site-packages/statsmodels/tsa/base/tsa_model.py:473: ValueWarning: No frequency information was provided, so inferred frequency MS will be used.\n",
      "  self._init_dates(dates, freq)\n"
     ]
    }
   ],
   "source": [
    "#Here order is basically (p,d,q). So from ACF and PACF of 2nd differencing, p=7,d=2,q=6\n",
    "model = ARIMA(train_data['Thousands of Passengers'],order=(7,2,6)) "
   ]
  },
  {
   "cell_type": "code",
   "execution_count": 68,
   "id": "1d68fdab-8789-44ee-897e-f474ee632869",
   "metadata": {},
   "outputs": [
    {
     "name": "stderr",
     "output_type": "stream",
     "text": [
      "/Users/sushantkotwal96/tensorflow_vs_code/lib/python3.9/site-packages/statsmodels/tsa/statespace/sarimax.py:978: UserWarning: Non-invertible starting MA parameters found. Using zeros as starting parameters.\n",
      "  warn('Non-invertible starting MA parameters found.'\n",
      "/Users/sushantkotwal96/tensorflow_vs_code/lib/python3.9/site-packages/statsmodels/base/model.py:607: ConvergenceWarning: Maximum Likelihood optimization failed to converge. Check mle_retvals\n",
      "  warnings.warn(\"Maximum Likelihood optimization failed to \"\n"
     ]
    }
   ],
   "source": [
    "model_arima_fit = model.fit()"
   ]
  },
  {
   "cell_type": "code",
   "execution_count": 69,
   "id": "f9304c38-1196-47d2-b13c-917556982391",
   "metadata": {},
   "outputs": [
    {
     "data": {
      "text/html": [
       "<table class=\"simpletable\">\n",
       "<caption>SARIMAX Results</caption>\n",
       "<tr>\n",
       "  <th>Dep. Variable:</th>   <td>Thousands of Passengers</td> <th>  No. Observations:  </th>    <td>84</td>   \n",
       "</tr>\n",
       "<tr>\n",
       "  <th>Model:</th>               <td>ARIMA(7, 2, 6)</td>      <th>  Log Likelihood     </th> <td>-348.769</td>\n",
       "</tr>\n",
       "<tr>\n",
       "  <th>Date:</th>               <td>Sun, 20 Oct 2024</td>     <th>  AIC                </th>  <td>725.538</td>\n",
       "</tr>\n",
       "<tr>\n",
       "  <th>Time:</th>                   <td>18:55:07</td>         <th>  BIC                </th>  <td>759.232</td>\n",
       "</tr>\n",
       "<tr>\n",
       "  <th>Sample:</th>                <td>01-01-1949</td>        <th>  HQIC               </th>  <td>739.065</td>\n",
       "</tr>\n",
       "<tr>\n",
       "  <th></th>                      <td>- 12-01-1955</td>       <th>                     </th>     <td> </td>   \n",
       "</tr>\n",
       "<tr>\n",
       "  <th>Covariance Type:</th>           <td>opg</td>           <th>                     </th>     <td> </td>   \n",
       "</tr>\n",
       "</table>\n",
       "<table class=\"simpletable\">\n",
       "<tr>\n",
       "     <td></td>       <th>coef</th>     <th>std err</th>      <th>z</th>      <th>P>|z|</th>  <th>[0.025</th>    <th>0.975]</th>  \n",
       "</tr>\n",
       "<tr>\n",
       "  <th>ar.L1</th>  <td>   -0.9509</td> <td>    0.325</td> <td>   -2.926</td> <td> 0.003</td> <td>   -1.588</td> <td>   -0.314</td>\n",
       "</tr>\n",
       "<tr>\n",
       "  <th>ar.L2</th>  <td>   -0.6144</td> <td>    0.572</td> <td>   -1.075</td> <td> 0.283</td> <td>   -1.735</td> <td>    0.506</td>\n",
       "</tr>\n",
       "<tr>\n",
       "  <th>ar.L3</th>  <td>   -0.6248</td> <td>    0.570</td> <td>   -1.097</td> <td> 0.273</td> <td>   -1.741</td> <td>    0.491</td>\n",
       "</tr>\n",
       "<tr>\n",
       "  <th>ar.L4</th>  <td>   -0.7816</td> <td>    0.507</td> <td>   -1.541</td> <td> 0.123</td> <td>   -1.775</td> <td>    0.212</td>\n",
       "</tr>\n",
       "<tr>\n",
       "  <th>ar.L5</th>  <td>   -0.4264</td> <td>    0.541</td> <td>   -0.788</td> <td> 0.431</td> <td>   -1.487</td> <td>    0.634</td>\n",
       "</tr>\n",
       "<tr>\n",
       "  <th>ar.L6</th>  <td>    0.2443</td> <td>    0.476</td> <td>    0.514</td> <td> 0.608</td> <td>   -0.688</td> <td>    1.176</td>\n",
       "</tr>\n",
       "<tr>\n",
       "  <th>ar.L7</th>  <td>    0.3103</td> <td>    0.282</td> <td>    1.100</td> <td> 0.272</td> <td>   -0.243</td> <td>    0.863</td>\n",
       "</tr>\n",
       "<tr>\n",
       "  <th>ma.L1</th>  <td>    0.3158</td> <td>    8.252</td> <td>    0.038</td> <td> 0.969</td> <td>  -15.858</td> <td>   16.489</td>\n",
       "</tr>\n",
       "<tr>\n",
       "  <th>ma.L2</th>  <td>   -0.2708</td> <td>   10.655</td> <td>   -0.025</td> <td> 0.980</td> <td>  -21.154</td> <td>   20.613</td>\n",
       "</tr>\n",
       "<tr>\n",
       "  <th>ma.L3</th>  <td>   -0.0656</td> <td>    8.112</td> <td>   -0.008</td> <td> 0.994</td> <td>  -15.964</td> <td>   15.833</td>\n",
       "</tr>\n",
       "<tr>\n",
       "  <th>ma.L4</th>  <td>    0.2913</td> <td>    7.741</td> <td>    0.038</td> <td> 0.970</td> <td>  -14.881</td> <td>   15.464</td>\n",
       "</tr>\n",
       "<tr>\n",
       "  <th>ma.L5</th>  <td>   -0.3734</td> <td>   10.027</td> <td>   -0.037</td> <td> 0.970</td> <td>  -20.026</td> <td>   19.279</td>\n",
       "</tr>\n",
       "<tr>\n",
       "  <th>ma.L6</th>  <td>   -0.8929</td> <td>    6.953</td> <td>   -0.128</td> <td> 0.898</td> <td>  -14.520</td> <td>   12.734</td>\n",
       "</tr>\n",
       "<tr>\n",
       "  <th>sigma2</th> <td>  257.9386</td> <td> 2006.474</td> <td>    0.129</td> <td> 0.898</td> <td>-3674.679</td> <td> 4190.556</td>\n",
       "</tr>\n",
       "</table>\n",
       "<table class=\"simpletable\">\n",
       "<tr>\n",
       "  <th>Ljung-Box (L1) (Q):</th>     <td>0.02</td> <th>  Jarque-Bera (JB):  </th> <td>3.06</td>\n",
       "</tr>\n",
       "<tr>\n",
       "  <th>Prob(Q):</th>                <td>0.89</td> <th>  Prob(JB):          </th> <td>0.22</td>\n",
       "</tr>\n",
       "<tr>\n",
       "  <th>Heteroskedasticity (H):</th> <td>3.05</td> <th>  Skew:              </th> <td>0.37</td>\n",
       "</tr>\n",
       "<tr>\n",
       "  <th>Prob(H) (two-sided):</th>    <td>0.01</td> <th>  Kurtosis:          </th> <td>3.60</td>\n",
       "</tr>\n",
       "</table><br/><br/>Warnings:<br/>[1] Covariance matrix calculated using the outer product of gradients (complex-step)."
      ],
      "text/latex": [
       "\\begin{center}\n",
       "\\begin{tabular}{lclc}\n",
       "\\toprule\n",
       "\\textbf{Dep. Variable:}          & Thousands of Passengers & \\textbf{  No. Observations:  } &     84      \\\\\n",
       "\\textbf{Model:}                  &      ARIMA(7, 2, 6)     & \\textbf{  Log Likelihood     } &  -348.769   \\\\\n",
       "\\textbf{Date:}                   &     Sun, 20 Oct 2024    & \\textbf{  AIC                } &  725.538    \\\\\n",
       "\\textbf{Time:}                   &         18:55:07        & \\textbf{  BIC                } &  759.232    \\\\\n",
       "\\textbf{Sample:}                 &        01-01-1949       & \\textbf{  HQIC               } &  739.065    \\\\\n",
       "\\textbf{}                        &       - 12-01-1955      & \\textbf{                     } &             \\\\\n",
       "\\textbf{Covariance Type:}        &           opg           & \\textbf{                     } &             \\\\\n",
       "\\bottomrule\n",
       "\\end{tabular}\n",
       "\\begin{tabular}{lcccccc}\n",
       "                & \\textbf{coef} & \\textbf{std err} & \\textbf{z} & \\textbf{P$> |$z$|$} & \\textbf{[0.025} & \\textbf{0.975]}  \\\\\n",
       "\\midrule\n",
       "\\textbf{ar.L1}  &      -0.9509  &        0.325     &    -2.926  &         0.003        &       -1.588    &       -0.314     \\\\\n",
       "\\textbf{ar.L2}  &      -0.6144  &        0.572     &    -1.075  &         0.283        &       -1.735    &        0.506     \\\\\n",
       "\\textbf{ar.L3}  &      -0.6248  &        0.570     &    -1.097  &         0.273        &       -1.741    &        0.491     \\\\\n",
       "\\textbf{ar.L4}  &      -0.7816  &        0.507     &    -1.541  &         0.123        &       -1.775    &        0.212     \\\\\n",
       "\\textbf{ar.L5}  &      -0.4264  &        0.541     &    -0.788  &         0.431        &       -1.487    &        0.634     \\\\\n",
       "\\textbf{ar.L6}  &       0.2443  &        0.476     &     0.514  &         0.608        &       -0.688    &        1.176     \\\\\n",
       "\\textbf{ar.L7}  &       0.3103  &        0.282     &     1.100  &         0.272        &       -0.243    &        0.863     \\\\\n",
       "\\textbf{ma.L1}  &       0.3158  &        8.252     &     0.038  &         0.969        &      -15.858    &       16.489     \\\\\n",
       "\\textbf{ma.L2}  &      -0.2708  &       10.655     &    -0.025  &         0.980        &      -21.154    &       20.613     \\\\\n",
       "\\textbf{ma.L3}  &      -0.0656  &        8.112     &    -0.008  &         0.994        &      -15.964    &       15.833     \\\\\n",
       "\\textbf{ma.L4}  &       0.2913  &        7.741     &     0.038  &         0.970        &      -14.881    &       15.464     \\\\\n",
       "\\textbf{ma.L5}  &      -0.3734  &       10.027     &    -0.037  &         0.970        &      -20.026    &       19.279     \\\\\n",
       "\\textbf{ma.L6}  &      -0.8929  &        6.953     &    -0.128  &         0.898        &      -14.520    &       12.734     \\\\\n",
       "\\textbf{sigma2} &     257.9386  &     2006.474     &     0.129  &         0.898        &    -3674.679    &     4190.556     \\\\\n",
       "\\bottomrule\n",
       "\\end{tabular}\n",
       "\\begin{tabular}{lclc}\n",
       "\\textbf{Ljung-Box (L1) (Q):}     & 0.02 & \\textbf{  Jarque-Bera (JB):  } & 3.06  \\\\\n",
       "\\textbf{Prob(Q):}                & 0.89 & \\textbf{  Prob(JB):          } & 0.22  \\\\\n",
       "\\textbf{Heteroskedasticity (H):} & 3.05 & \\textbf{  Skew:              } & 0.37  \\\\\n",
       "\\textbf{Prob(H) (two-sided):}    & 0.01 & \\textbf{  Kurtosis:          } & 3.60  \\\\\n",
       "\\bottomrule\n",
       "\\end{tabular}\n",
       "%\\caption{SARIMAX Results}\n",
       "\\end{center}\n",
       "\n",
       "Warnings: \\newline\n",
       " [1] Covariance matrix calculated using the outer product of gradients (complex-step)."
      ],
      "text/plain": [
       "<class 'statsmodels.iolib.summary.Summary'>\n",
       "\"\"\"\n",
       "                                  SARIMAX Results                                  \n",
       "===================================================================================\n",
       "Dep. Variable:     Thousands of Passengers   No. Observations:                   84\n",
       "Model:                      ARIMA(7, 2, 6)   Log Likelihood                -348.769\n",
       "Date:                     Sun, 20 Oct 2024   AIC                            725.538\n",
       "Time:                             18:55:07   BIC                            759.232\n",
       "Sample:                         01-01-1949   HQIC                           739.065\n",
       "                              - 12-01-1955                                         \n",
       "Covariance Type:                       opg                                         \n",
       "==============================================================================\n",
       "                 coef    std err          z      P>|z|      [0.025      0.975]\n",
       "------------------------------------------------------------------------------\n",
       "ar.L1         -0.9509      0.325     -2.926      0.003      -1.588      -0.314\n",
       "ar.L2         -0.6144      0.572     -1.075      0.283      -1.735       0.506\n",
       "ar.L3         -0.6248      0.570     -1.097      0.273      -1.741       0.491\n",
       "ar.L4         -0.7816      0.507     -1.541      0.123      -1.775       0.212\n",
       "ar.L5         -0.4264      0.541     -0.788      0.431      -1.487       0.634\n",
       "ar.L6          0.2443      0.476      0.514      0.608      -0.688       1.176\n",
       "ar.L7          0.3103      0.282      1.100      0.272      -0.243       0.863\n",
       "ma.L1          0.3158      8.252      0.038      0.969     -15.858      16.489\n",
       "ma.L2         -0.2708     10.655     -0.025      0.980     -21.154      20.613\n",
       "ma.L3         -0.0656      8.112     -0.008      0.994     -15.964      15.833\n",
       "ma.L4          0.2913      7.741      0.038      0.970     -14.881      15.464\n",
       "ma.L5         -0.3734     10.027     -0.037      0.970     -20.026      19.279\n",
       "ma.L6         -0.8929      6.953     -0.128      0.898     -14.520      12.734\n",
       "sigma2       257.9386   2006.474      0.129      0.898   -3674.679    4190.556\n",
       "===================================================================================\n",
       "Ljung-Box (L1) (Q):                   0.02   Jarque-Bera (JB):                 3.06\n",
       "Prob(Q):                              0.89   Prob(JB):                         0.22\n",
       "Heteroskedasticity (H):               3.05   Skew:                             0.37\n",
       "Prob(H) (two-sided):                  0.01   Kurtosis:                         3.60\n",
       "===================================================================================\n",
       "\n",
       "Warnings:\n",
       "[1] Covariance matrix calculated using the outer product of gradients (complex-step).\n",
       "\"\"\""
      ]
     },
     "execution_count": 69,
     "metadata": {},
     "output_type": "execute_result"
    }
   ],
   "source": [
    "model_arima_fit.summary()"
   ]
  },
  {
   "cell_type": "code",
   "execution_count": 70,
   "id": "902b99c1-ecc4-4d0f-9627-4fc59c7464fa",
   "metadata": {},
   "outputs": [],
   "source": [
    "## Predictions\n",
    "pred = model_arima_fit.predict(start=pred_start_date,end=pred_end_date)\n",
    "residuals = test_data['Thousands of Passengers']-pred"
   ]
  },
  {
   "cell_type": "code",
   "execution_count": 71,
   "id": "4139871d-19ed-46ce-8eb3-37e5f1076d93",
   "metadata": {},
   "outputs": [
    {
     "data": {
      "text/plain": [
       "1956-01-01    303.618946\n",
       "1956-02-01    303.332653\n",
       "1956-03-01    290.621780\n",
       "1956-04-01    287.731781\n",
       "1956-05-01    277.029402\n",
       "1956-06-01    293.392548\n",
       "1956-07-01    323.881428\n",
       "1956-08-01    315.713738\n",
       "1956-09-01    309.562194\n",
       "1956-10-01    297.138217\n",
       "1956-11-01    292.151317\n",
       "1956-12-01    311.063350\n",
       "1957-01-01    333.353657\n",
       "1957-02-01    332.085571\n",
       "1957-03-01    321.572431\n",
       "1957-04-01    309.456819\n",
       "1957-05-01    306.304453\n",
       "1957-06-01    326.506661\n",
       "1957-07-01    345.505777\n",
       "1957-08-01    346.188690\n",
       "1957-09-01    334.546221\n",
       "1957-10-01    321.293781\n",
       "1957-11-01    321.263207\n",
       "1957-12-01    340.663672\n",
       "1958-01-01    358.864744\n",
       "1958-02-01    359.674030\n",
       "1958-03-01    347.276887\n",
       "1958-04-01    333.830569\n",
       "1958-05-01    335.744407\n",
       "1958-06-01    354.900781\n",
       "1958-07-01    372.352803\n",
       "1958-08-01    373.066016\n",
       "1958-09-01    359.790773\n",
       "1958-10-01    346.786706\n",
       "1958-11-01    349.983790\n",
       "1958-12-01    369.134967\n",
       "1959-01-01    385.995805\n",
       "1959-02-01    386.245477\n",
       "1959-03-01    372.341668\n",
       "1959-04-01    359.881968\n",
       "1959-05-01    364.152117\n",
       "1959-06-01    383.352427\n",
       "1959-07-01    399.710071\n",
       "1959-08-01    399.283494\n",
       "1959-09-01    384.933051\n",
       "1959-10-01    373.069936\n",
       "1959-11-01    378.273033\n",
       "1959-12-01    397.586750\n",
       "1960-01-01    413.420387\n",
       "1960-02-01    412.242371\n",
       "1960-03-01    397.555112\n",
       "1960-04-01    386.322060\n",
       "1960-05-01    392.376622\n",
       "1960-06-01    411.831913\n",
       "1960-07-01    427.104987\n",
       "1960-08-01    425.146090\n",
       "1960-09-01    410.207777\n",
       "1960-10-01    399.619142\n",
       "1960-11-01    406.484271\n",
       "1960-12-01    426.077821\n",
       "Freq: MS, Name: predicted_mean, dtype: float64"
      ]
     },
     "execution_count": 71,
     "metadata": {},
     "output_type": "execute_result"
    }
   ],
   "source": [
    "pred"
   ]
  },
  {
   "cell_type": "code",
   "execution_count": 72,
   "id": "5dc55522-3945-44ff-9280-c4c6aa5945b5",
   "metadata": {},
   "outputs": [
    {
     "data": {
      "text/plain": [
       "Month\n",
       "1956-01-01    -19.618946\n",
       "1956-02-01    -26.332653\n",
       "1956-03-01     26.378220\n",
       "1956-04-01     25.268219\n",
       "1956-05-01     40.970598\n",
       "1956-06-01     80.607452\n",
       "1956-07-01     89.118572\n",
       "1956-08-01     89.286262\n",
       "1956-09-01     45.437806\n",
       "1956-10-01      8.861783\n",
       "1956-11-01    -21.151317\n",
       "1956-12-01     -5.063350\n",
       "1957-01-01    -18.353657\n",
       "1957-02-01    -31.085571\n",
       "1957-03-01     34.427569\n",
       "1957-04-01     38.543181\n",
       "1957-05-01     48.695547\n",
       "1957-06-01     95.493339\n",
       "1957-07-01    119.494223\n",
       "1957-08-01    120.811310\n",
       "1957-09-01     69.453779\n",
       "1957-10-01     25.706219\n",
       "1957-11-01    -16.263207\n",
       "1957-12-01     -4.663672\n",
       "1958-01-01    -18.864744\n",
       "1958-02-01    -41.674030\n",
       "1958-03-01     14.723113\n",
       "1958-04-01     14.169431\n",
       "1958-05-01     27.255593\n",
       "1958-06-01     80.099219\n",
       "1958-07-01    118.647197\n",
       "1958-08-01    131.933984\n",
       "1958-09-01     44.209227\n",
       "1958-10-01     12.213294\n",
       "1958-11-01    -39.983790\n",
       "1958-12-01    -32.134967\n",
       "1959-01-01    -25.995805\n",
       "1959-02-01    -44.245477\n",
       "1959-03-01     33.658332\n",
       "1959-04-01     36.118032\n",
       "1959-05-01     55.847883\n",
       "1959-06-01     88.647573\n",
       "1959-07-01    148.289929\n",
       "1959-08-01    159.716506\n",
       "1959-09-01     78.066949\n",
       "1959-10-01     33.930064\n",
       "1959-11-01    -16.273033\n",
       "1959-12-01      7.413250\n",
       "1960-01-01      3.579613\n",
       "1960-02-01    -21.242371\n",
       "1960-03-01     21.444888\n",
       "1960-04-01     74.677940\n",
       "1960-05-01     79.623378\n",
       "1960-06-01    123.168087\n",
       "1960-07-01    194.895013\n",
       "1960-08-01    180.853910\n",
       "1960-09-01     97.792223\n",
       "1960-10-01     61.380858\n",
       "1960-11-01    -16.484271\n",
       "1960-12-01      5.922179\n",
       "dtype: float64"
      ]
     },
     "execution_count": 72,
     "metadata": {},
     "output_type": "execute_result"
    }
   ],
   "source": [
    "residuals"
   ]
  },
  {
   "cell_type": "code",
   "execution_count": 73,
   "id": "9bbdf1fd-06d3-475a-9985-b962f15b7318",
   "metadata": {},
   "outputs": [
    {
     "data": {
      "text/plain": [
       "<Axes: ylabel='Density'>"
      ]
     },
     "execution_count": 73,
     "metadata": {},
     "output_type": "execute_result"
    },
    {
     "data": {
      "image/png": "[encoded data removed]",
      "text/plain": [
       "<Figure size 640x480 with 1 Axes>"
      ]
     },
     "metadata": {},
     "output_type": "display_data"
    }
   ],
   "source": [
    "model_arima_fit.resid.plot(kind='kde')"
   ]
  },
  {
   "cell_type": "code",
   "execution_count": 74,
   "id": "b21c6351-1c70-4e83-8d68-458fca4d1207",
   "metadata": {},
   "outputs": [
    {
     "name": "stderr",
     "output_type": "stream",
     "text": [
      "/var/folders/lh/rhcpvjfx523gn0mxwb8kj1s80000gn/T/ipykernel_4640/6199056.py:1: SettingWithCopyWarning: \n",
      "A value is trying to be set on a copy of a slice from a DataFrame.\n",
      "Try using .loc[row_indexer,col_indexer] = value instead\n",
      "\n",
      "See the caveats in the documentation: https://pandas.pydata.org/pandas-docs/stable/user_guide/indexing.html#returning-a-view-versus-a-copy\n",
      "  test_data['Predicted_Arima'] = pred\n"
     ]
    }
   ],
   "source": [
    "test_data['Predicted_Arima'] = pred"
   ]
  },
  {
   "cell_type": "code",
   "execution_count": 75,
   "id": "f271e58c-12fa-4c6a-a0a6-befccc9c7494",
   "metadata": {},
   "outputs": [
    {
     "data": {
      "text/plain": [
       "<Axes: xlabel='Month'>"
      ]
     },
     "execution_count": 75,
     "metadata": {},
     "output_type": "execute_result"
    },
    {
     "data": {
      "image/png": "[encoded data removed]",
      "text/plain": [
       "<Figure size 640x480 with 1 Axes>"
      ]
     },
     "metadata": {},
     "output_type": "display_data"
    }
   ],
   "source": [
    "test_data[['Thousands of Passengers','Predicted_Arima']].plot()"
   ]
  },
  {
   "cell_type": "code",
   "execution_count": null,
   "id": "c67beded-aa75-4bf9-8782-e2170fd29d7b",
   "metadata": {},
   "outputs": [],
   "source": []
  },
  {
   "cell_type": "code",
   "execution_count": 80,
   "id": "d154a30f-a87e-44ec-a554-1482000b9430",
   "metadata": {},
   "outputs": [
    {
     "name": "stderr",
     "output_type": "stream",
     "text": [
      "/Users/sushantkotwal96/tensorflow_vs_code/lib/python3.9/site-packages/statsmodels/tsa/base/tsa_model.py:473: ValueWarning: No frequency information was provided, so inferred frequency MS will be used.\n",
      "  self._init_dates(dates, freq)\n",
      "/Users/sushantkotwal96/tensorflow_vs_code/lib/python3.9/site-packages/statsmodels/tsa/base/tsa_model.py:473: ValueWarning: No frequency information was provided, so inferred frequency MS will be used.\n",
      "  self._init_dates(dates, freq)\n",
      "/Users/sushantkotwal96/tensorflow_vs_code/lib/python3.9/site-packages/statsmodels/tsa/base/tsa_model.py:473: ValueWarning: No frequency information was provided, so inferred frequency MS will be used.\n",
      "  self._init_dates(dates, freq)\n"
     ]
    }
   ],
   "source": [
    "model_arima_12 = ARIMA(test_data['Thousands of Passengers'],order=(3,0,5))"
   ]
  },
  {
   "cell_type": "code",
   "execution_count": 81,
   "id": "97b79fe0-ba26-46ee-9299-209d203b5319",
   "metadata": {},
   "outputs": [
    {
     "name": "stderr",
     "output_type": "stream",
     "text": [
      "/Users/sushantkotwal96/tensorflow_vs_code/lib/python3.9/site-packages/statsmodels/tsa/statespace/sarimax.py:966: UserWarning: Non-stationary starting autoregressive parameters found. Using zeros as starting parameters.\n",
      "  warn('Non-stationary starting autoregressive parameters'\n",
      "/Users/sushantkotwal96/tensorflow_vs_code/lib/python3.9/site-packages/statsmodels/tsa/statespace/sarimax.py:978: UserWarning: Non-invertible starting MA parameters found. Using zeros as starting parameters.\n",
      "  warn('Non-invertible starting MA parameters found.'\n",
      "/Users/sushantkotwal96/tensorflow_vs_code/lib/python3.9/site-packages/statsmodels/base/model.py:607: ConvergenceWarning: Maximum Likelihood optimization failed to converge. Check mle_retvals\n",
      "  warnings.warn(\"Maximum Likelihood optimization failed to \"\n"
     ]
    }
   ],
   "source": [
    "model_arima_12_fit = model_arima_12.fit()"
   ]
  },
  {
   "cell_type": "code",
   "execution_count": 82,
   "id": "6226cf91-7d8f-4762-b7a9-5f4d7a17c321",
   "metadata": {},
   "outputs": [
    {
     "data": {
      "text/html": [
       "<table class=\"simpletable\">\n",
       "<caption>SARIMAX Results</caption>\n",
       "<tr>\n",
       "  <th>Dep. Variable:</th>   <td>Thousands of Passengers</td> <th>  No. Observations:  </th>    <td>60</td>   \n",
       "</tr>\n",
       "<tr>\n",
       "  <th>Model:</th>               <td>ARIMA(3, 0, 5)</td>      <th>  Log Likelihood     </th> <td>-300.981</td>\n",
       "</tr>\n",
       "<tr>\n",
       "  <th>Date:</th>               <td>Sun, 20 Oct 2024</td>     <th>  AIC                </th>  <td>621.963</td>\n",
       "</tr>\n",
       "<tr>\n",
       "  <th>Time:</th>                   <td>19:06:30</td>         <th>  BIC                </th>  <td>642.906</td>\n",
       "</tr>\n",
       "<tr>\n",
       "  <th>Sample:</th>                <td>01-01-1956</td>        <th>  HQIC               </th>  <td>630.155</td>\n",
       "</tr>\n",
       "<tr>\n",
       "  <th></th>                      <td>- 12-01-1960</td>       <th>                     </th>     <td> </td>   \n",
       "</tr>\n",
       "<tr>\n",
       "  <th>Covariance Type:</th>           <td>opg</td>           <th>                     </th>     <td> </td>   \n",
       "</tr>\n",
       "</table>\n",
       "<table class=\"simpletable\">\n",
       "<tr>\n",
       "     <td></td>       <th>coef</th>     <th>std err</th>      <th>z</th>      <th>P>|z|</th>  <th>[0.025</th>    <th>0.975]</th>  \n",
       "</tr>\n",
       "<tr>\n",
       "  <th>const</th>  <td>  396.4147</td> <td>   55.403</td> <td>    7.155</td> <td> 0.000</td> <td>  287.826</td> <td>  505.003</td>\n",
       "</tr>\n",
       "<tr>\n",
       "  <th>ar.L1</th>  <td>    0.1381</td> <td>    0.514</td> <td>    0.269</td> <td> 0.788</td> <td>   -0.869</td> <td>    1.145</td>\n",
       "</tr>\n",
       "<tr>\n",
       "  <th>ar.L2</th>  <td>    0.4404</td> <td>    0.518</td> <td>    0.851</td> <td> 0.395</td> <td>   -0.574</td> <td>    1.455</td>\n",
       "</tr>\n",
       "<tr>\n",
       "  <th>ar.L3</th>  <td>    0.3368</td> <td>    0.252</td> <td>    1.337</td> <td> 0.181</td> <td>   -0.157</td> <td>    0.831</td>\n",
       "</tr>\n",
       "<tr>\n",
       "  <th>ma.L1</th>  <td>    1.2432</td> <td>    0.745</td> <td>    1.668</td> <td> 0.095</td> <td>   -0.217</td> <td>    2.704</td>\n",
       "</tr>\n",
       "<tr>\n",
       "  <th>ma.L2</th>  <td>    0.5947</td> <td>    3.745</td> <td>    0.159</td> <td> 0.874</td> <td>   -6.746</td> <td>    7.936</td>\n",
       "</tr>\n",
       "<tr>\n",
       "  <th>ma.L3</th>  <td>   -0.2506</td> <td>    1.792</td> <td>   -0.140</td> <td> 0.889</td> <td>   -3.763</td> <td>    3.262</td>\n",
       "</tr>\n",
       "<tr>\n",
       "  <th>ma.L4</th>  <td>   -1.0738</td> <td>    3.014</td> <td>   -0.356</td> <td> 0.722</td> <td>   -6.982</td> <td>    4.834</td>\n",
       "</tr>\n",
       "<tr>\n",
       "  <th>ma.L5</th>  <td>   -0.6147</td> <td>    1.876</td> <td>   -0.328</td> <td> 0.743</td> <td>   -4.291</td> <td>    3.062</td>\n",
       "</tr>\n",
       "<tr>\n",
       "  <th>sigma2</th> <td> 1170.7549</td> <td> 3655.101</td> <td>    0.320</td> <td> 0.749</td> <td>-5993.111</td> <td> 8334.620</td>\n",
       "</tr>\n",
       "</table>\n",
       "<table class=\"simpletable\">\n",
       "<tr>\n",
       "  <th>Ljung-Box (L1) (Q):</th>     <td>0.05</td> <th>  Jarque-Bera (JB):  </th> <td>2.29</td>\n",
       "</tr>\n",
       "<tr>\n",
       "  <th>Prob(Q):</th>                <td>0.83</td> <th>  Prob(JB):          </th> <td>0.32</td>\n",
       "</tr>\n",
       "<tr>\n",
       "  <th>Heteroskedasticity (H):</th> <td>2.43</td> <th>  Skew:              </th> <td>0.46</td>\n",
       "</tr>\n",
       "<tr>\n",
       "  <th>Prob(H) (two-sided):</th>    <td>0.05</td> <th>  Kurtosis:          </th> <td>2.76</td>\n",
       "</tr>\n",
       "</table><br/><br/>Warnings:<br/>[1] Covariance matrix calculated using the outer product of gradients (complex-step)."
      ],
      "text/latex": [
       "\\begin{center}\n",
       "\\begin{tabular}{lclc}\n",
       "\\toprule\n",
       "\\textbf{Dep. Variable:}          & Thousands of Passengers & \\textbf{  No. Observations:  } &     60      \\\\\n",
       "\\textbf{Model:}                  &      ARIMA(3, 0, 5)     & \\textbf{  Log Likelihood     } &  -300.981   \\\\\n",
       "\\textbf{Date:}                   &     Sun, 20 Oct 2024    & \\textbf{  AIC                } &  621.963    \\\\\n",
       "\\textbf{Time:}                   &         19:06:30        & \\textbf{  BIC                } &  642.906    \\\\\n",
       "\\textbf{Sample:}                 &        01-01-1956       & \\textbf{  HQIC               } &  630.155    \\\\\n",
       "\\textbf{}                        &       - 12-01-1960      & \\textbf{                     } &             \\\\\n",
       "\\textbf{Covariance Type:}        &           opg           & \\textbf{                     } &             \\\\\n",
       "\\bottomrule\n",
       "\\end{tabular}\n",
       "\\begin{tabular}{lcccccc}\n",
       "                & \\textbf{coef} & \\textbf{std err} & \\textbf{z} & \\textbf{P$> |$z$|$} & \\textbf{[0.025} & \\textbf{0.975]}  \\\\\n",
       "\\midrule\n",
       "\\textbf{const}  &     396.4147  &       55.403     &     7.155  &         0.000        &      287.826    &      505.003     \\\\\n",
       "\\textbf{ar.L1}  &       0.1381  &        0.514     &     0.269  &         0.788        &       -0.869    &        1.145     \\\\\n",
       "\\textbf{ar.L2}  &       0.4404  &        0.518     &     0.851  &         0.395        &       -0.574    &        1.455     \\\\\n",
       "\\textbf{ar.L3}  &       0.3368  &        0.252     &     1.337  &         0.181        &       -0.157    &        0.831     \\\\\n",
       "\\textbf{ma.L1}  &       1.2432  &        0.745     &     1.668  &         0.095        &       -0.217    &        2.704     \\\\\n",
       "\\textbf{ma.L2}  &       0.5947  &        3.745     &     0.159  &         0.874        &       -6.746    &        7.936     \\\\\n",
       "\\textbf{ma.L3}  &      -0.2506  &        1.792     &    -0.140  &         0.889        &       -3.763    &        3.262     \\\\\n",
       "\\textbf{ma.L4}  &      -1.0738  &        3.014     &    -0.356  &         0.722        &       -6.982    &        4.834     \\\\\n",
       "\\textbf{ma.L5}  &      -0.6147  &        1.876     &    -0.328  &         0.743        &       -4.291    &        3.062     \\\\\n",
       "\\textbf{sigma2} &    1170.7549  &     3655.101     &     0.320  &         0.749        &    -5993.111    &     8334.620     \\\\\n",
       "\\bottomrule\n",
       "\\end{tabular}\n",
       "\\begin{tabular}{lclc}\n",
       "\\textbf{Ljung-Box (L1) (Q):}     & 0.05 & \\textbf{  Jarque-Bera (JB):  } & 2.29  \\\\\n",
       "\\textbf{Prob(Q):}                & 0.83 & \\textbf{  Prob(JB):          } & 0.32  \\\\\n",
       "\\textbf{Heteroskedasticity (H):} & 2.43 & \\textbf{  Skew:              } & 0.46  \\\\\n",
       "\\textbf{Prob(H) (two-sided):}    & 0.05 & \\textbf{  Kurtosis:          } & 2.76  \\\\\n",
       "\\bottomrule\n",
       "\\end{tabular}\n",
       "%\\caption{SARIMAX Results}\n",
       "\\end{center}\n",
       "\n",
       "Warnings: \\newline\n",
       " [1] Covariance matrix calculated using the outer product of gradients (complex-step)."
      ],
      "text/plain": [
       "<class 'statsmodels.iolib.summary.Summary'>\n",
       "\"\"\"\n",
       "                                  SARIMAX Results                                  \n",
       "===================================================================================\n",
       "Dep. Variable:     Thousands of Passengers   No. Observations:                   60\n",
       "Model:                      ARIMA(3, 0, 5)   Log Likelihood                -300.981\n",
       "Date:                     Sun, 20 Oct 2024   AIC                            621.963\n",
       "Time:                             19:06:30   BIC                            642.906\n",
       "Sample:                         01-01-1956   HQIC                           630.155\n",
       "                              - 12-01-1960                                         \n",
       "Covariance Type:                       opg                                         \n",
       "==============================================================================\n",
       "                 coef    std err          z      P>|z|      [0.025      0.975]\n",
       "------------------------------------------------------------------------------\n",
       "const        396.4147     55.403      7.155      0.000     287.826     505.003\n",
       "ar.L1          0.1381      0.514      0.269      0.788      -0.869       1.145\n",
       "ar.L2          0.4404      0.518      0.851      0.395      -0.574       1.455\n",
       "ar.L3          0.3368      0.252      1.337      0.181      -0.157       0.831\n",
       "ma.L1          1.2432      0.745      1.668      0.095      -0.217       2.704\n",
       "ma.L2          0.5947      3.745      0.159      0.874      -6.746       7.936\n",
       "ma.L3         -0.2506      1.792     -0.140      0.889      -3.763       3.262\n",
       "ma.L4         -1.0738      3.014     -0.356      0.722      -6.982       4.834\n",
       "ma.L5         -0.6147      1.876     -0.328      0.743      -4.291       3.062\n",
       "sigma2      1170.7549   3655.101      0.320      0.749   -5993.111    8334.620\n",
       "===================================================================================\n",
       "Ljung-Box (L1) (Q):                   0.05   Jarque-Bera (JB):                 2.29\n",
       "Prob(Q):                              0.83   Prob(JB):                         0.32\n",
       "Heteroskedasticity (H):               2.43   Skew:                             0.46\n",
       "Prob(H) (two-sided):                  0.05   Kurtosis:                         2.76\n",
       "===================================================================================\n",
       "\n",
       "Warnings:\n",
       "[1] Covariance matrix calculated using the outer product of gradients (complex-step).\n",
       "\"\"\""
      ]
     },
     "execution_count": 82,
     "metadata": {},
     "output_type": "execute_result"
    }
   ],
   "source": [
    "model_arima_12_fit.summary()"
   ]
  },
  {
   "cell_type": "code",
   "execution_count": null,
   "id": "d330a55a-07b6-469f-b3b6-ee390c5598c0",
   "metadata": {},
   "outputs": [],
   "source": [
    "pred = model_arima_fit.predict(start=pred_start_date,end=pred_end_date)"
   ]
  },
  {
   "cell_type": "code",
   "execution_count": 84,
   "id": "1f15fd27-9ef2-41f5-9024-316ccb854e99",
   "metadata": {},
   "outputs": [],
   "source": [
    "pred_arima_12 = model_arima_12_fit.predict(start=pred_start_date,end=pred_end_date)\n",
    "residuals_arima_12 = test_data['Thousands of Passengers']-pred_arima_12"
   ]
  },
  {
   "cell_type": "code",
   "execution_count": 85,
   "id": "2d914ae5-d1e6-4768-b985-d62df145841d",
   "metadata": {},
   "outputs": [
    {
     "data": {
      "text/plain": [
       "1956-01-01    396.414707\n",
       "1956-02-01    303.476363\n",
       "1956-03-01    302.903931\n",
       "1956-04-01    350.519819\n",
       "1956-05-01    324.420457\n",
       "1956-06-01    332.244392\n",
       "1956-07-01    385.598645\n",
       "1956-08-01    433.216402\n",
       "1956-09-01    378.918219\n",
       "1956-10-01    318.367913\n",
       "1956-11-01    310.603145\n",
       "1956-12-01    292.908543\n",
       "1957-01-01    337.238262\n",
       "1957-02-01    318.536319\n",
       "1957-03-01    324.467826\n",
       "1957-04-01    365.890538\n",
       "1957-05-01    352.517255\n",
       "1957-06-01    369.855726\n",
       "1957-07-01    414.717191\n",
       "1957-08-01    489.916828\n",
       "1957-09-01    434.050125\n",
       "1957-10-01    335.530247\n",
       "1957-11-01    342.810835\n",
       "1957-12-01    327.311094\n",
       "1958-01-01    362.284314\n",
       "1958-02-01    324.917922\n",
       "1958-03-01    349.516994\n",
       "1958-04-01    369.004059\n",
       "1958-05-01    348.381498\n",
       "1958-06-01    382.083387\n",
       "1958-07-01    440.750818\n",
       "1958-08-01    515.096724\n",
       "1958-09-01    462.689444\n",
       "1958-10-01    322.865367\n",
       "1958-11-01    364.794894\n",
       "1958-12-01    319.918389\n",
       "1959-01-01    385.289406\n",
       "1959-02-01    326.512199\n",
       "1959-03-01    388.856463\n",
       "1959-04-01    412.462170\n",
       "1959-05-01    383.067109\n",
       "1959-06-01    433.385362\n",
       "1959-07-01    462.589885\n",
       "1959-08-01    581.936414\n",
       "1959-09-01    490.553460\n",
       "1959-10-01    396.642207\n",
       "1959-11-01    374.367852\n",
       "1959-12-01    390.011264\n",
       "1960-01-01    437.071278\n",
       "1960-02-01    383.845164\n",
       "1960-03-01    408.046297\n",
       "1960-04-01    418.714856\n",
       "1960-05-01    481.869535\n",
       "1960-06-01    455.752798\n",
       "1960-07-01    535.976632\n",
       "1960-08-01    616.524505\n",
       "1960-09-01    570.342920\n",
       "1960-10-01    397.229212\n",
       "1960-11-01    434.626546\n",
       "1960-12-01    418.478928\n",
       "Freq: MS, Name: predicted_mean, dtype: float64"
      ]
     },
     "execution_count": 85,
     "metadata": {},
     "output_type": "execute_result"
    }
   ],
   "source": [
    "pred_arima_12"
   ]
  },
  {
   "cell_type": "code",
   "execution_count": 86,
   "id": "45e08e65-27b2-4a4a-9e59-43caebd325d5",
   "metadata": {},
   "outputs": [
    {
     "data": {
      "text/plain": [
       "Month\n",
       "1956-01-01   -112.414707\n",
       "1956-02-01    -26.476363\n",
       "1956-03-01     14.096069\n",
       "1956-04-01    -37.519819\n",
       "1956-05-01     -6.420457\n",
       "1956-06-01     41.755608\n",
       "1956-07-01     27.401355\n",
       "1956-08-01    -28.216402\n",
       "1956-09-01    -23.918219\n",
       "1956-10-01    -12.367913\n",
       "1956-11-01    -39.603145\n",
       "1956-12-01     13.091457\n",
       "1957-01-01    -22.238262\n",
       "1957-02-01    -17.536319\n",
       "1957-03-01     31.532174\n",
       "1957-04-01    -17.890538\n",
       "1957-05-01      2.482745\n",
       "1957-06-01     52.144274\n",
       "1957-07-01     50.282809\n",
       "1957-08-01    -22.916828\n",
       "1957-09-01    -30.050125\n",
       "1957-10-01     11.469753\n",
       "1957-11-01    -37.810835\n",
       "1957-12-01      8.688906\n",
       "1958-01-01    -22.284314\n",
       "1958-02-01     -6.917922\n",
       "1958-03-01     12.483006\n",
       "1958-04-01    -21.004059\n",
       "1958-05-01     14.618502\n",
       "1958-06-01     52.916613\n",
       "1958-07-01     50.249182\n",
       "1958-08-01    -10.096724\n",
       "1958-09-01    -58.689444\n",
       "1958-10-01     36.134633\n",
       "1958-11-01    -54.794894\n",
       "1958-12-01     17.081611\n",
       "1959-01-01    -25.289406\n",
       "1959-02-01     15.487801\n",
       "1959-03-01     17.143537\n",
       "1959-04-01    -16.462170\n",
       "1959-05-01     36.932891\n",
       "1959-06-01     38.614638\n",
       "1959-07-01     85.410115\n",
       "1959-08-01    -22.936414\n",
       "1959-09-01    -27.553460\n",
       "1959-10-01     10.357793\n",
       "1959-11-01    -12.367852\n",
       "1959-12-01     14.988736\n",
       "1960-01-01    -20.071278\n",
       "1960-02-01      7.154836\n",
       "1960-03-01     10.953703\n",
       "1960-04-01     42.285144\n",
       "1960-05-01     -9.869535\n",
       "1960-06-01     79.247202\n",
       "1960-07-01     86.023368\n",
       "1960-08-01    -10.524505\n",
       "1960-09-01    -62.342920\n",
       "1960-10-01     63.770788\n",
       "1960-11-01    -44.626546\n",
       "1960-12-01     13.521072\n",
       "dtype: float64"
      ]
     },
     "execution_count": 86,
     "metadata": {},
     "output_type": "execute_result"
    }
   ],
   "source": [
    "residuals_arima_12"
   ]
  },
  {
   "cell_type": "code",
   "execution_count": 87,
   "id": "657c8db3-5176-4725-87d9-d67813d899f4",
   "metadata": {},
   "outputs": [
    {
     "data": {
      "text/plain": [
       "<Axes: ylabel='Density'>"
      ]
     },
     "execution_count": 87,
     "metadata": {},
     "output_type": "execute_result"
    },
    {
     "data": {
      "image/png": "[encoded data removed]",
      "text/plain": [
       "<Figure size 640x480 with 1 Axes>"
      ]
     },
     "metadata": {},
     "output_type": "display_data"
    }
   ],
   "source": [
    "model_arima_12_fit.resid.plot(kind='kde')"
   ]
  },
  {
   "cell_type": "code",
   "execution_count": 88,
   "id": "99c70fe8-369d-458f-a10d-07788f739703",
   "metadata": {},
   "outputs": [
    {
     "name": "stderr",
     "output_type": "stream",
     "text": [
      "/var/folders/lh/rhcpvjfx523gn0mxwb8kj1s80000gn/T/ipykernel_4640/1424714888.py:1: SettingWithCopyWarning: \n",
      "A value is trying to be set on a copy of a slice from a DataFrame.\n",
      "Try using .loc[row_indexer,col_indexer] = value instead\n",
      "\n",
      "See the caveats in the documentation: https://pandas.pydata.org/pandas-docs/stable/user_guide/indexing.html#returning-a-view-versus-a-copy\n",
      "  test_data['Predicted_Arima_12'] = pred_arima_12\n"
     ]
    }
   ],
   "source": [
    "test_data['Predicted_Arima_12'] = pred_arima_12"
   ]
  },
  {
   "cell_type": "code",
   "execution_count": 89,
   "id": "a854bcd3-70f1-4b2e-aeed-6a93a02e9ece",
   "metadata": {},
   "outputs": [
    {
     "data": {
      "text/plain": [
       "<Axes: xlabel='Month'>"
      ]
     },
     "execution_count": 89,
     "metadata": {},
     "output_type": "execute_result"
    },
    {
     "data": {
      "image/png": "[encoded data removed]",
      "text/plain": [
       "<Figure size 640x480 with 1 Axes>"
      ]
     },
     "metadata": {},
     "output_type": "display_data"
    }
   ],
   "source": [
    "test_data[['Thousands of Passengers','Predicted_Arima_12']].plot()"
   ]
  },
  {
   "cell_type": "code",
   "execution_count": null,
   "id": "d796da44-04f9-4180-a168-0148b31185d3",
   "metadata": {},
   "outputs": [],
   "source": []
  },
  {
   "cell_type": "markdown",
   "id": "4e724541-49f7-416f-b480-802c23b5f127",
   "metadata": {},
   "source": [
    "## Now Let's check with SARIMAX"
   ]
  },
  {
   "cell_type": "code",
   "execution_count": 76,
   "id": "dac5ca9c-998d-47a8-9c8e-bc3c732d03d4",
   "metadata": {},
   "outputs": [],
   "source": [
    "from statsmodels.tsa.statespace.sarimax import SARIMAX"
   ]
  },
  {
   "cell_type": "code",
   "execution_count": 102,
   "id": "69c84e3e-f949-4bb2-b18b-8a74f23427ea",
   "metadata": {},
   "outputs": [
    {
     "name": "stderr",
     "output_type": "stream",
     "text": [
      "/Users/sushantkotwal96/tensorflow_vs_code/lib/python3.9/site-packages/statsmodels/tsa/base/tsa_model.py:473: ValueWarning: No frequency information was provided, so inferred frequency MS will be used.\n",
      "  self._init_dates(dates, freq)\n",
      "/Users/sushantkotwal96/tensorflow_vs_code/lib/python3.9/site-packages/statsmodels/tsa/base/tsa_model.py:473: ValueWarning: No frequency information was provided, so inferred frequency MS will be used.\n",
      "  self._init_dates(dates, freq)\n"
     ]
    }
   ],
   "source": [
    "model_sarimax = SARIMAX(test_data['Thousands of Passengers'],order=(3,0,5),seasonal_order=(0,1,0,12))"
   ]
  },
  {
   "cell_type": "code",
   "execution_count": 103,
   "id": "0fd1f23f-5354-44c8-ad67-653744ae86d7",
   "metadata": {},
   "outputs": [
    {
     "name": "stdout",
     "output_type": "stream",
     "text": [
      "RUNNING THE L-BFGS-B CODE\n",
      "\n",
      "           * * *\n",
      "\n",
      "Machine precision = 2.220D-16\n",
      " N =            9     M =           10\n",
      "\n",
      "At X0         0 variables are exactly at the bounds\n",
      "\n",
      "At iterate    0    f=  3.28358D+00    |proj g|=  3.53095D-02\n",
      "\n",
      "At iterate    5    f=  3.27226D+00    |proj g|=  3.34105D-02\n",
      "\n",
      "At iterate   10    f=  3.25896D+00    |proj g|=  5.38303D-02\n",
      "\n",
      "At iterate   15    f=  3.25436D+00    |proj g|=  2.53292D-03\n"
     ]
    },
    {
     "name": "stderr",
     "output_type": "stream",
     "text": [
      " This problem is unconstrained.\n"
     ]
    },
    {
     "name": "stdout",
     "output_type": "stream",
     "text": [
      "\n",
      "At iterate   20    f=  3.25418D+00    |proj g|=  2.14791D-03\n",
      "\n",
      "At iterate   25    f=  3.25410D+00    |proj g|=  3.29213D-04\n",
      "\n",
      "At iterate   30    f=  3.25408D+00    |proj g|=  1.69000D-03\n",
      "\n",
      "At iterate   35    f=  3.25404D+00    |proj g|=  1.20535D-04\n",
      "\n",
      "           * * *\n",
      "\n",
      "Tit   = total number of iterations\n",
      "Tnf   = total number of function evaluations\n",
      "Tnint = total number of segments explored during Cauchy searches\n",
      "Skip  = number of BFGS updates skipped\n",
      "Nact  = number of active bounds at final generalized Cauchy point\n",
      "Projg = norm of the final projected gradient\n",
      "F     = final function value\n",
      "\n",
      "           * * *\n",
      "\n",
      "   N    Tit     Tnf  Tnint  Skip  Nact     Projg        F\n",
      "    9     39     43      1     0     0   2.120D-05   3.254D+00\n",
      "  F =   3.2540448450251973     \n",
      "\n",
      "CONVERGENCE: REL_REDUCTION_OF_F_<=_FACTR*EPSMCH             \n"
     ]
    }
   ],
   "source": [
    "model_sarimax_fit = model_sarimax.fit()"
   ]
  },
  {
   "cell_type": "code",
   "execution_count": 104,
   "id": "e2c2efe8-bd22-485a-a102-3ff8a10580ef",
   "metadata": {},
   "outputs": [
    {
     "data": {
      "text/html": [
       "<table class=\"simpletable\">\n",
       "<caption>SARIMAX Results</caption>\n",
       "<tr>\n",
       "  <th>Dep. Variable:</th>       <td>Thousands of Passengers</td>     <th>  No. Observations:  </th>    <td>60</td>   \n",
       "</tr>\n",
       "<tr>\n",
       "  <th>Model:</th>           <td>SARIMAX(3, 0, 5)x(0, 1, [], 12)</td> <th>  Log Likelihood     </th> <td>-195.243</td>\n",
       "</tr>\n",
       "<tr>\n",
       "  <th>Date:</th>                   <td>Sun, 20 Oct 2024</td>         <th>  AIC                </th>  <td>408.485</td>\n",
       "</tr>\n",
       "<tr>\n",
       "  <th>Time:</th>                       <td>19:30:54</td>             <th>  BIC                </th>  <td>425.326</td>\n",
       "</tr>\n",
       "<tr>\n",
       "  <th>Sample:</th>                    <td>01-01-1956</td>            <th>  HQIC               </th>  <td>414.850</td>\n",
       "</tr>\n",
       "<tr>\n",
       "  <th></th>                          <td>- 12-01-1960</td>           <th>                     </th>     <td> </td>   \n",
       "</tr>\n",
       "<tr>\n",
       "  <th>Covariance Type:</th>               <td>opg</td>               <th>                     </th>     <td> </td>   \n",
       "</tr>\n",
       "</table>\n",
       "<table class=\"simpletable\">\n",
       "<tr>\n",
       "     <td></td>       <th>coef</th>     <th>std err</th>      <th>z</th>      <th>P>|z|</th>  <th>[0.025</th>    <th>0.975]</th>  \n",
       "</tr>\n",
       "<tr>\n",
       "  <th>ar.L1</th>  <td>    0.5380</td> <td>    1.552</td> <td>    0.347</td> <td> 0.729</td> <td>   -2.503</td> <td>    3.580</td>\n",
       "</tr>\n",
       "<tr>\n",
       "  <th>ar.L2</th>  <td>    0.5232</td> <td>    0.613</td> <td>    0.853</td> <td> 0.394</td> <td>   -0.679</td> <td>    1.725</td>\n",
       "</tr>\n",
       "<tr>\n",
       "  <th>ar.L3</th>  <td>   -0.1012</td> <td>    1.207</td> <td>   -0.084</td> <td> 0.933</td> <td>   -2.467</td> <td>    2.264</td>\n",
       "</tr>\n",
       "<tr>\n",
       "  <th>ma.L1</th>  <td>    0.1381</td> <td>    1.501</td> <td>    0.092</td> <td> 0.927</td> <td>   -2.804</td> <td>    3.080</td>\n",
       "</tr>\n",
       "<tr>\n",
       "  <th>ma.L2</th>  <td>   -0.1474</td> <td>    0.794</td> <td>   -0.186</td> <td> 0.853</td> <td>   -1.703</td> <td>    1.408</td>\n",
       "</tr>\n",
       "<tr>\n",
       "  <th>ma.L3</th>  <td>    0.0464</td> <td>    0.319</td> <td>    0.145</td> <td> 0.884</td> <td>   -0.579</td> <td>    0.672</td>\n",
       "</tr>\n",
       "<tr>\n",
       "  <th>ma.L4</th>  <td>   -0.3508</td> <td>    0.292</td> <td>   -1.200</td> <td> 0.230</td> <td>   -0.924</td> <td>    0.222</td>\n",
       "</tr>\n",
       "<tr>\n",
       "  <th>ma.L5</th>  <td>    0.1969</td> <td>    0.606</td> <td>    0.325</td> <td> 0.745</td> <td>   -0.992</td> <td>    1.385</td>\n",
       "</tr>\n",
       "<tr>\n",
       "  <th>sigma2</th> <td>  186.6175</td> <td>   55.550</td> <td>    3.359</td> <td> 0.001</td> <td>   77.742</td> <td>  295.493</td>\n",
       "</tr>\n",
       "</table>\n",
       "<table class=\"simpletable\">\n",
       "<tr>\n",
       "  <th>Ljung-Box (L1) (Q):</th>     <td>0.02</td> <th>  Jarque-Bera (JB):  </th> <td>0.97</td> \n",
       "</tr>\n",
       "<tr>\n",
       "  <th>Prob(Q):</th>                <td>0.90</td> <th>  Prob(JB):          </th> <td>0.62</td> \n",
       "</tr>\n",
       "<tr>\n",
       "  <th>Heteroskedasticity (H):</th> <td>3.71</td> <th>  Skew:              </th> <td>-0.02</td>\n",
       "</tr>\n",
       "<tr>\n",
       "  <th>Prob(H) (two-sided):</th>    <td>0.01</td> <th>  Kurtosis:          </th> <td>3.70</td> \n",
       "</tr>\n",
       "</table><br/><br/>Warnings:<br/>[1] Covariance matrix calculated using the outer product of gradients (complex-step)."
      ],
      "text/latex": [
       "\\begin{center}\n",
       "\\begin{tabular}{lclc}\n",
       "\\toprule\n",
       "\\textbf{Dep. Variable:}          &     Thousands of Passengers     & \\textbf{  No. Observations:  } &     60      \\\\\n",
       "\\textbf{Model:}                  & SARIMAX(3, 0, 5)x(0, 1, [], 12) & \\textbf{  Log Likelihood     } &  -195.243   \\\\\n",
       "\\textbf{Date:}                   &         Sun, 20 Oct 2024        & \\textbf{  AIC                } &  408.485    \\\\\n",
       "\\textbf{Time:}                   &             19:30:54            & \\textbf{  BIC                } &  425.326    \\\\\n",
       "\\textbf{Sample:}                 &            01-01-1956           & \\textbf{  HQIC               } &  414.850    \\\\\n",
       "\\textbf{}                        &           - 12-01-1960          & \\textbf{                     } &             \\\\\n",
       "\\textbf{Covariance Type:}        &               opg               & \\textbf{                     } &             \\\\\n",
       "\\bottomrule\n",
       "\\end{tabular}\n",
       "\\begin{tabular}{lcccccc}\n",
       "                & \\textbf{coef} & \\textbf{std err} & \\textbf{z} & \\textbf{P$> |$z$|$} & \\textbf{[0.025} & \\textbf{0.975]}  \\\\\n",
       "\\midrule\n",
       "\\textbf{ar.L1}  &       0.5380  &        1.552     &     0.347  &         0.729        &       -2.503    &        3.580     \\\\\n",
       "\\textbf{ar.L2}  &       0.5232  &        0.613     &     0.853  &         0.394        &       -0.679    &        1.725     \\\\\n",
       "\\textbf{ar.L3}  &      -0.1012  &        1.207     &    -0.084  &         0.933        &       -2.467    &        2.264     \\\\\n",
       "\\textbf{ma.L1}  &       0.1381  &        1.501     &     0.092  &         0.927        &       -2.804    &        3.080     \\\\\n",
       "\\textbf{ma.L2}  &      -0.1474  &        0.794     &    -0.186  &         0.853        &       -1.703    &        1.408     \\\\\n",
       "\\textbf{ma.L3}  &       0.0464  &        0.319     &     0.145  &         0.884        &       -0.579    &        0.672     \\\\\n",
       "\\textbf{ma.L4}  &      -0.3508  &        0.292     &    -1.200  &         0.230        &       -0.924    &        0.222     \\\\\n",
       "\\textbf{ma.L5}  &       0.1969  &        0.606     &     0.325  &         0.745        &       -0.992    &        1.385     \\\\\n",
       "\\textbf{sigma2} &     186.6175  &       55.550     &     3.359  &         0.001        &       77.742    &      295.493     \\\\\n",
       "\\bottomrule\n",
       "\\end{tabular}\n",
       "\\begin{tabular}{lclc}\n",
       "\\textbf{Ljung-Box (L1) (Q):}     & 0.02 & \\textbf{  Jarque-Bera (JB):  } &  0.97  \\\\\n",
       "\\textbf{Prob(Q):}                & 0.90 & \\textbf{  Prob(JB):          } &  0.62  \\\\\n",
       "\\textbf{Heteroskedasticity (H):} & 3.71 & \\textbf{  Skew:              } & -0.02  \\\\\n",
       "\\textbf{Prob(H) (two-sided):}    & 0.01 & \\textbf{  Kurtosis:          } &  3.70  \\\\\n",
       "\\bottomrule\n",
       "\\end{tabular}\n",
       "%\\caption{SARIMAX Results}\n",
       "\\end{center}\n",
       "\n",
       "Warnings: \\newline\n",
       " [1] Covariance matrix calculated using the outer product of gradients (complex-step)."
      ],
      "text/plain": [
       "<class 'statsmodels.iolib.summary.Summary'>\n",
       "\"\"\"\n",
       "                                      SARIMAX Results                                      \n",
       "===========================================================================================\n",
       "Dep. Variable:             Thousands of Passengers   No. Observations:                   60\n",
       "Model:             SARIMAX(3, 0, 5)x(0, 1, [], 12)   Log Likelihood                -195.243\n",
       "Date:                             Sun, 20 Oct 2024   AIC                            408.485\n",
       "Time:                                     19:30:54   BIC                            425.326\n",
       "Sample:                                 01-01-1956   HQIC                           414.850\n",
       "                                      - 12-01-1960                                         \n",
       "Covariance Type:                               opg                                         \n",
       "==============================================================================\n",
       "                 coef    std err          z      P>|z|      [0.025      0.975]\n",
       "------------------------------------------------------------------------------\n",
       "ar.L1          0.5380      1.552      0.347      0.729      -2.503       3.580\n",
       "ar.L2          0.5232      0.613      0.853      0.394      -0.679       1.725\n",
       "ar.L3         -0.1012      1.207     -0.084      0.933      -2.467       2.264\n",
       "ma.L1          0.1381      1.501      0.092      0.927      -2.804       3.080\n",
       "ma.L2         -0.1474      0.794     -0.186      0.853      -1.703       1.408\n",
       "ma.L3          0.0464      0.319      0.145      0.884      -0.579       0.672\n",
       "ma.L4         -0.3508      0.292     -1.200      0.230      -0.924       0.222\n",
       "ma.L5          0.1969      0.606      0.325      0.745      -0.992       1.385\n",
       "sigma2       186.6175     55.550      3.359      0.001      77.742     295.493\n",
       "===================================================================================\n",
       "Ljung-Box (L1) (Q):                   0.02   Jarque-Bera (JB):                 0.97\n",
       "Prob(Q):                              0.90   Prob(JB):                         0.62\n",
       "Heteroskedasticity (H):               3.71   Skew:                            -0.02\n",
       "Prob(H) (two-sided):                  0.01   Kurtosis:                         3.70\n",
       "===================================================================================\n",
       "\n",
       "Warnings:\n",
       "[1] Covariance matrix calculated using the outer product of gradients (complex-step).\n",
       "\"\"\""
      ]
     },
     "execution_count": 104,
     "metadata": {},
     "output_type": "execute_result"
    }
   ],
   "source": [
    "model_sarimax_fit.summary()"
   ]
  },
  {
   "cell_type": "code",
   "execution_count": 105,
   "id": "c6046320-abca-4c7e-99b6-54a978f20f3b",
   "metadata": {},
   "outputs": [],
   "source": [
    "sarimax_12_pred = model_sarimax_fit.predict(start=pred_start_date,end=pred_end_date)\n",
    "residuals_sarimax_12 = test_data['Thousands of Passengers']-sarimax_12_pred"
   ]
  },
  {
   "cell_type": "code",
   "execution_count": 106,
   "id": "fd73cdb4-e166-47be-a0df-406bc40f6bae",
   "metadata": {},
   "outputs": [
    {
     "data": {
      "text/plain": [
       "1956-01-01      0.000000\n",
       "1956-02-01      0.384820\n",
       "1956-03-01      0.750631\n",
       "1956-04-01      1.152176\n",
       "1956-05-01      1.527345\n",
       "1956-06-01      1.909676\n",
       "1956-07-01      2.346954\n",
       "1956-08-01      2.829434\n",
       "1956-09-01      3.280752\n",
       "1956-10-01      3.650147\n",
       "1956-11-01      3.941381\n",
       "1956-12-01      4.178452\n",
       "1957-01-01    288.455941\n",
       "1957-02-01    305.506741\n",
       "1957-03-01    342.199599\n",
       "1957-04-01    344.514082\n",
       "1957-05-01    352.152352\n",
       "1957-06-01    410.201593\n",
       "1957-07-01    450.855439\n",
       "1957-08-01    455.638763\n",
       "1957-09-01    410.031084\n",
       "1957-10-01    354.693842\n",
       "1957-11-01    310.172310\n",
       "1957-12-01    339.978284\n",
       "1958-01-01    348.876463\n",
       "1958-02-01    327.471213\n",
       "1958-03-01    375.377420\n",
       "1958-04-01    357.303311\n",
       "1958-05-01    358.974585\n",
       "1958-06-01    428.464786\n",
       "1958-07-01    478.839618\n",
       "1958-08-01    488.343618\n",
       "1958-09-01    434.237953\n",
       "1958-10-01    357.145257\n",
       "1958-11-01    309.746298\n",
       "1958-12-01    340.204122\n",
       "1959-01-01    355.206461\n",
       "1959-02-01    323.337384\n",
       "1959-03-01    387.180610\n",
       "1959-04-01    383.394060\n",
       "1959-05-01    406.903408\n",
       "1959-06-01    481.527484\n",
       "1959-07-01    530.394409\n",
       "1959-08-01    552.820968\n",
       "1959-09-01    454.942595\n",
       "1959-10-01    420.053536\n",
       "1959-11-01    350.597078\n",
       "1959-12-01    389.182123\n",
       "1960-01-01    417.251480\n",
       "1960-02-01    407.292755\n",
       "1960-03-01    447.300250\n",
       "1960-04-01    418.098163\n",
       "1960-05-01    469.206672\n",
       "1960-06-01    531.189797\n",
       "1960-07-01    611.243648\n",
       "1960-08-01    607.002187\n",
       "1960-09-01    526.544638\n",
       "1960-10-01    445.630072\n",
       "1960-11-01    411.588656\n",
       "1960-12-01    440.190469\n",
       "Freq: MS, Name: predicted_mean, dtype: float64"
      ]
     },
     "execution_count": 106,
     "metadata": {},
     "output_type": "execute_result"
    }
   ],
   "source": [
    "sarimax_12_pred"
   ]
  },
  {
   "cell_type": "code",
   "execution_count": 107,
   "id": "26353ddb-78e6-40a2-b0ca-243d7d890b3e",
   "metadata": {},
   "outputs": [
    {
     "data": {
      "text/plain": [
       "Month\n",
       "1956-01-01    284.000000\n",
       "1956-02-01    276.615180\n",
       "1956-03-01    316.249369\n",
       "1956-04-01    311.847824\n",
       "1956-05-01    316.472655\n",
       "1956-06-01    372.090324\n",
       "1956-07-01    410.653046\n",
       "1956-08-01    402.170566\n",
       "1956-09-01    351.719248\n",
       "1956-10-01    302.349853\n",
       "1956-11-01    267.058619\n",
       "1956-12-01    301.821548\n",
       "1957-01-01     26.544059\n",
       "1957-02-01     -4.506741\n",
       "1957-03-01     13.800401\n",
       "1957-04-01      3.485918\n",
       "1957-05-01      2.847648\n",
       "1957-06-01     11.798407\n",
       "1957-07-01     14.144561\n",
       "1957-08-01     11.361237\n",
       "1957-09-01     -6.031084\n",
       "1957-10-01     -7.693842\n",
       "1957-11-01     -5.172310\n",
       "1957-12-01     -3.978284\n",
       "1958-01-01     -8.876463\n",
       "1958-02-01     -9.471213\n",
       "1958-03-01    -13.377420\n",
       "1958-04-01     -9.303311\n",
       "1958-05-01      4.025415\n",
       "1958-06-01      6.535214\n",
       "1958-07-01     12.160382\n",
       "1958-08-01     16.656382\n",
       "1958-09-01    -30.237953\n",
       "1958-10-01      1.854743\n",
       "1958-11-01      0.253702\n",
       "1958-12-01     -3.204122\n",
       "1959-01-01      4.793539\n",
       "1959-02-01     18.662616\n",
       "1959-03-01     18.819390\n",
       "1959-04-01     12.605940\n",
       "1959-05-01     13.096592\n",
       "1959-06-01     -9.527484\n",
       "1959-07-01     17.605591\n",
       "1959-08-01      6.179032\n",
       "1959-09-01      8.057405\n",
       "1959-10-01    -13.053536\n",
       "1959-11-01     11.402922\n",
       "1959-12-01     15.817877\n",
       "1960-01-01     -0.251480\n",
       "1960-02-01    -16.292755\n",
       "1960-03-01    -28.300250\n",
       "1960-04-01     42.901837\n",
       "1960-05-01      2.793328\n",
       "1960-06-01      3.810203\n",
       "1960-07-01     10.756352\n",
       "1960-08-01     -1.002187\n",
       "1960-09-01    -18.544638\n",
       "1960-10-01     15.369928\n",
       "1960-11-01    -21.588656\n",
       "1960-12-01     -8.190469\n",
       "dtype: float64"
      ]
     },
     "execution_count": 107,
     "metadata": {},
     "output_type": "execute_result"
    }
   ],
   "source": [
    "residuals_sarimax_12"
   ]
  },
  {
   "cell_type": "code",
   "execution_count": 108,
   "id": "96753c9b-5452-40bd-824c-be7946871258",
   "metadata": {},
   "outputs": [
    {
     "data": {
      "text/plain": [
       "<Axes: ylabel='Density'>"
      ]
     },
     "execution_count": 108,
     "metadata": {},
     "output_type": "execute_result"
    },
    {
     "data": {
      "image/png": "[encoded data removed]",
      "text/plain": [
       "<Figure size 640x480 with 1 Axes>"
      ]
     },
     "metadata": {},
     "output_type": "display_data"
    }
   ],
   "source": [
    "model_sarimax_fit.resid.plot(kind='kde')"
   ]
  },
  {
   "cell_type": "code",
   "execution_count": 109,
   "id": "64d8c5a5-acd9-4300-8a68-aeb754020dd1",
   "metadata": {},
   "outputs": [
    {
     "name": "stderr",
     "output_type": "stream",
     "text": [
      "/var/folders/lh/rhcpvjfx523gn0mxwb8kj1s80000gn/T/ipykernel_4640/4221293394.py:1: SettingWithCopyWarning: \n",
      "A value is trying to be set on a copy of a slice from a DataFrame.\n",
      "Try using .loc[row_indexer,col_indexer] = value instead\n",
      "\n",
      "See the caveats in the documentation: https://pandas.pydata.org/pandas-docs/stable/user_guide/indexing.html#returning-a-view-versus-a-copy\n",
      "  test_data['Sarimax_Pred'] = sarimax_12_pred\n"
     ]
    }
   ],
   "source": [
    "test_data['Sarimax_Pred'] = sarimax_12_pred"
   ]
  },
  {
   "cell_type": "code",
   "execution_count": 110,
   "id": "b0644f16-1ab9-4fc5-918b-bd9b5e573a58",
   "metadata": {},
   "outputs": [
    {
     "data": {
      "text/plain": [
       "<Axes: xlabel='Month'>"
      ]
     },
     "execution_count": 110,
     "metadata": {},
     "output_type": "execute_result"
    },
    {
     "data": {
      "image/png": "[encoded data removed]",
      "text/plain": [
       "<Figure size 640x480 with 1 Axes>"
      ]
     },
     "metadata": {},
     "output_type": "display_data"
    }
   ],
   "source": [
    "test_data[['Thousands of Passengers','Predicted_Arima_12','Sarimax_Pred']].plot()"
   ]
  },
  {
   "cell_type": "markdown",
   "id": "056a19a2-3226-4787-8364-14768409e51f",
   "metadata": {},
   "source": [
    "## Since Data is Seasonal, it works better on SARIMAX than on ARIMA"
   ]
  },
  {
   "cell_type": "code",
   "execution_count": 114,
   "id": "ba5ce7ff-7711-43a5-ab37-3345f60dadbd",
   "metadata": {},
   "outputs": [
    {
     "name": "stdout",
     "output_type": "stream",
     "text": [
      "Collecting pmdarima\n",
      "  Downloading pmdarima-2.0.4-cp39-cp39-macosx_11_0_arm64.whl (630 kB)\n",
      "\u001b[K     |████████████████████████████████| 630 kB 4.9 MB/s eta 0:00:01\n",
      "\u001b[?25hRequirement already satisfied: Cython!=0.29.18,!=0.29.31,>=0.29 in /Users/sushantkotwal96/tensorflow_vs_code/lib/python3.9/site-packages (from pmdarima) (3.0.9)\n",
      "Requirement already satisfied: packaging>=17.1 in /Users/sushantkotwal96/tensorflow_vs_code/lib/python3.9/site-packages (from pmdarima) (24.0)\n",
      "Requirement already satisfied: pandas>=0.19 in /Users/sushantkotwal96/tensorflow_vs_code/lib/python3.9/site-packages (from pmdarima) (2.2.1)\n",
      "Requirement already satisfied: statsmodels>=0.13.2 in /Users/sushantkotwal96/tensorflow_vs_code/lib/python3.9/site-packages (from pmdarima) (0.14.4)\n",
      "Requirement already satisfied: urllib3 in /Users/sushantkotwal96/tensorflow_vs_code/lib/python3.9/site-packages (from pmdarima) (2.2.1)\n",
      "Requirement already satisfied: joblib>=0.11 in /Users/sushantkotwal96/tensorflow_vs_code/lib/python3.9/site-packages (from pmdarima) (1.3.2)\n",
      "Requirement already satisfied: scipy>=1.3.2 in /Users/sushantkotwal96/tensorflow_vs_code/lib/python3.9/site-packages (from pmdarima) (1.12.0)\n",
      "Requirement already satisfied: numpy>=1.21.2 in /Users/sushantkotwal96/tensorflow_vs_code/lib/python3.9/site-packages (from pmdarima) (1.24.3)\n",
      "Requirement already satisfied: setuptools!=50.0.0,>=38.6.0 in /Users/sushantkotwal96/tensorflow_vs_code/lib/python3.9/site-packages (from pmdarima) (58.0.4)\n",
      "Requirement already satisfied: scikit-learn>=0.22 in /Users/sushantkotwal96/tensorflow_vs_code/lib/python3.9/site-packages (from pmdarima) (1.4.1.post1)\n",
      "Requirement already satisfied: python-dateutil>=2.8.2 in /Users/sushantkotwal96/tensorflow_vs_code/lib/python3.9/site-packages (from pandas>=0.19->pmdarima) (2.9.0.post0)\n",
      "Requirement already satisfied: tzdata>=2022.7 in /Users/sushantkotwal96/tensorflow_vs_code/lib/python3.9/site-packages (from pandas>=0.19->pmdarima) (2024.1)\n",
      "Requirement already satisfied: pytz>=2020.1 in /Users/sushantkotwal96/tensorflow_vs_code/lib/python3.9/site-packages (from pandas>=0.19->pmdarima) (2024.1)\n",
      "Requirement already satisfied: six>=1.5 in /Users/sushantkotwal96/tensorflow_vs_code/lib/python3.9/site-packages (from python-dateutil>=2.8.2->pandas>=0.19->pmdarima) (1.16.0)\n",
      "Requirement already satisfied: threadpoolctl>=2.0.0 in /Users/sushantkotwal96/tensorflow_vs_code/lib/python3.9/site-packages (from scikit-learn>=0.22->pmdarima) (3.3.0)\n",
      "Requirement already satisfied: patsy>=0.5.6 in /Users/sushantkotwal96/tensorflow_vs_code/lib/python3.9/site-packages (from statsmodels>=0.13.2->pmdarima) (0.5.6)\n",
      "Installing collected packages: pmdarima\n",
      "Successfully installed pmdarima-2.0.4\n",
      "\u001b[33mWARNING: You are using pip version 21.2.4; however, version 24.2 is available.\n",
      "You should consider upgrading via the '/Users/sushantkotwal96/tensorflow_vs_code/bin/python3 -m pip install --upgrade pip' command.\u001b[0m\n"
     ]
    }
   ],
   "source": [
    "!pip install pmdarima"
   ]
  },
  {
   "cell_type": "code",
   "execution_count": 115,
   "id": "ebf4e01a-eee4-4963-9189-eea58d9a502c",
   "metadata": {},
   "outputs": [],
   "source": [
    "from pmdarima import auto_arima"
   ]
  },
  {
   "cell_type": "code",
   "execution_count": 118,
   "id": "c7e09b10-7120-4704-a0f1-ff68c73137b6",
   "metadata": {},
   "outputs": [
    {
     "name": "stdout",
     "output_type": "stream",
     "text": [
      "Performing stepwise search to minimize aic\n",
      " ARIMA(2,0,2)(1,1,1)[12] intercept   : AIC=542.053, Time=0.71 sec\n",
      " ARIMA(0,0,0)(0,1,0)[12] intercept   : AIC=597.376, Time=0.01 sec\n",
      " ARIMA(1,0,0)(1,1,0)[12] intercept   : AIC=536.684, Time=0.11 sec\n",
      " ARIMA(0,0,1)(0,1,1)[12] intercept   : AIC=560.740, Time=0.08 sec\n",
      " ARIMA(0,0,0)(0,1,0)[12]             : AIC=696.878, Time=0.01 sec\n",
      " ARIMA(1,0,0)(0,1,0)[12] intercept   : AIC=540.380, Time=0.03 sec\n",
      " ARIMA(1,0,0)(2,1,0)[12] intercept   : AIC=538.290, Time=0.29 sec\n",
      " ARIMA(1,0,0)(1,1,1)[12] intercept   : AIC=538.461, Time=0.17 sec\n",
      " ARIMA(1,0,0)(0,1,1)[12] intercept   : AIC=536.644, Time=0.12 sec\n",
      " ARIMA(1,0,0)(0,1,2)[12] intercept   : AIC=538.298, Time=0.27 sec\n",
      " ARIMA(1,0,0)(1,1,2)[12] intercept   : AIC=539.788, Time=0.63 sec\n",
      " ARIMA(0,0,0)(0,1,1)[12] intercept   : AIC=589.655, Time=0.06 sec\n",
      " ARIMA(2,0,0)(0,1,1)[12] intercept   : AIC=537.805, Time=0.11 sec\n",
      " ARIMA(1,0,1)(0,1,1)[12] intercept   : AIC=538.008, Time=0.14 sec\n",
      " ARIMA(2,0,1)(0,1,1)[12] intercept   : AIC=538.754, Time=0.18 sec\n",
      " ARIMA(1,0,0)(0,1,1)[12]             : AIC=543.645, Time=0.08 sec\n",
      "\n",
      "Best model:  ARIMA(1,0,0)(0,1,1)[12] intercept\n",
      "Total fit time: 3.064 seconds\n"
     ]
    }
   ],
   "source": [
    "auto_arima_model = auto_arima(train_data['Thousands of Passengers'],trace=True,seasonal=True,m=12)"
   ]
  },
  {
   "cell_type": "code",
   "execution_count": null,
   "id": "b7e153b6-cfcd-4482-a11f-f9b362bdd37a",
   "metadata": {},
   "outputs": [],
   "source": []
  }
 ],
 "metadata": {
  "kernelspec": {
   "display_name": "Python 3 (ipykernel)",
   "language": "python",
   "name": "python3"
  },
  "language_info": {
   "codemirror_mode": {
    "name": "ipython",
    "version": 3
   },
   "file_extension": ".py",
   "mimetype": "text/x-python",
   "name": "python",
   "nbconvert_exporter": "python",
   "pygments_lexer": "ipython3",
   "version": "3.9.6"
  },
  "widgets": {
   "application/vnd.jupyter.widget-state+json": {
    "state": {},
    "version_major": 2,
    "version_minor": 0
   }
  }
 },
 "nbformat": 4,
 "nbformat_minor": 5
}
